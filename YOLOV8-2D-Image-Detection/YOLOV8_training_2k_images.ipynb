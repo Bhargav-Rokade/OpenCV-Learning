{
 "cells": [
  {
   "cell_type": "markdown",
   "metadata": {
    "id": "P2pRotdn_6NU"
   },
   "source": [
    "## Loading the dataset from my drive"
   ]
  },
  {
   "cell_type": "code",
   "execution_count": null,
   "metadata": {
    "colab": {
     "base_uri": "https://localhost:8080/"
    },
    "id": "KpwFilcjAxGF",
    "outputId": "1fce2355-a0c7-463e-a6d4-c2df45228dac"
   },
   "outputs": [
    {
     "name": "stdout",
     "output_type": "stream",
     "text": [
      "Drive already mounted at /content/drive; to attempt to forcibly remount, call drive.mount(\"/content/drive\", force_remount=True).\n"
     ]
    }
   ],
   "source": [
    "from google.colab import drive\n",
    "drive.mount('/content/drive')"
   ]
  },
  {
   "cell_type": "code",
   "execution_count": null,
   "metadata": {
    "colab": {
     "base_uri": "https://localhost:8080/"
    },
    "id": "A1LUBUrBB6a0",
    "outputId": "4b12b0d6-c33c-44de-8174-8411edfb16a2"
   },
   "outputs": [
    {
     "name": "stdout",
     "output_type": "stream",
     "text": [
      "runs  syn.v3i.yolov8.zip  yolo11n.pt  yolov8n.pt\n"
     ]
    }
   ],
   "source": [
    "!ls /content/drive/MyDrive/YOLOV8_Training/"
   ]
  },
  {
   "cell_type": "code",
   "execution_count": null,
   "metadata": {
    "colab": {
     "base_uri": "https://localhost:8080/"
    },
    "id": "J7YgSl_1DAay",
    "outputId": "4e19eaed-3541-4b55-e214-c1b372f7f246"
   },
   "outputs": [
    {
     "name": "stdout",
     "output_type": "stream",
     "text": [
      "/content/drive/MyDrive/YOLOV8_Training\n"
     ]
    }
   ],
   "source": [
    "%cd /content/drive/MyDrive/YOLOV8_Training/"
   ]
  },
  {
   "cell_type": "code",
   "execution_count": null,
   "metadata": {
    "colab": {
     "base_uri": "https://localhost:8080/"
    },
    "id": "sv6bHMU5EdVU",
    "outputId": "ff5902a8-e09c-4937-a28e-1dc4b8b6eeab"
   },
   "outputs": [],
   "source": [
    "#!unzip syn.v3i.yolov8.zip -d /content/dataset"
   ]
  },
  {
   "cell_type": "code",
   "execution_count": null,
   "metadata": {
    "colab": {
     "base_uri": "https://localhost:8080/"
    },
    "id": "s4LzMKV7EjNv",
    "outputId": "65b44e10-2df9-478a-f60f-358fffd44e76"
   },
   "outputs": [
    {
     "name": "stdout",
     "output_type": "stream",
     "text": [
      "data.yaml  README.dataset.txt  README.roboflow.txt  test  train  valid\n"
     ]
    }
   ],
   "source": [
    "!ls /content/dataset/\n"
   ]
  },
  {
   "cell_type": "code",
   "execution_count": null,
   "metadata": {
    "colab": {
     "base_uri": "https://localhost:8080/"
    },
    "id": "q18ss7LLEudW",
    "outputId": "53fd885c-ce76-4fac-fe78-ba9319d35bb4"
   },
   "outputs": [],
   "source": [
    "!pip install ultralytics"
   ]
  },
  {
   "cell_type": "markdown",
   "metadata": {
    "id": "0T5Q8ppOAAkk"
   },
   "source": [
    "## Once Ultralytics library is installed, I'll use YOLOV8n (n = nano), (s=small), since edge processing is a priority, I'll be running on n"
   ]
  },
  {
   "cell_type": "code",
   "execution_count": null,
   "metadata": {
    "colab": {
     "base_uri": "https://localhost:8080/"
    },
    "id": "OKRtPKVSEoAj",
    "outputId": "c97bdab8-83e7-417c-fa08-37d3ee6d024c"
   },
   "outputs": [
    {
     "name": "stdout",
     "output_type": "stream",
     "text": [
      "Creating new Ultralytics Settings v0.0.6 file ✅ \n",
      "View Ultralytics Settings with 'yolo settings' or at '/root/.config/Ultralytics/settings.json'\n",
      "Update Settings with 'yolo settings key=value', i.e. 'yolo settings runs_dir=path/to/dir'. For help see https://docs.ultralytics.com/quickstart/#ultralytics-settings.\n",
      "Ultralytics 8.3.74 🚀 Python-3.11.11 torch-2.5.1+cu124 CUDA:0 (Tesla T4, 15095MiB)\n",
      "\u001b[34m\u001b[1mengine/trainer: \u001b[0mtask=detect, mode=train, model=yolov8n.pt, data=/content/dataset/data.yaml, epochs=50, time=None, patience=100, batch=16, imgsz=640, save=True, save_period=-1, cache=False, device=None, workers=8, project=None, name=train2, exist_ok=False, pretrained=True, optimizer=auto, verbose=True, seed=0, deterministic=True, single_cls=False, rect=False, cos_lr=False, close_mosaic=10, resume=False, amp=True, fraction=1.0, profile=False, freeze=None, multi_scale=False, overlap_mask=True, mask_ratio=4, dropout=0.0, val=True, split=val, save_json=False, save_hybrid=False, conf=None, iou=0.7, max_det=300, half=False, dnn=False, plots=True, source=None, vid_stride=1, stream_buffer=False, visualize=False, augment=False, agnostic_nms=False, classes=None, retina_masks=False, embed=None, show=False, save_frames=False, save_txt=False, save_conf=False, save_crop=False, show_labels=True, show_conf=True, show_boxes=True, line_width=None, format=torchscript, keras=False, optimize=False, int8=False, dynamic=False, simplify=True, opset=None, workspace=None, nms=False, lr0=0.01, lrf=0.01, momentum=0.937, weight_decay=0.0005, warmup_epochs=3.0, warmup_momentum=0.8, warmup_bias_lr=0.1, box=7.5, cls=0.5, dfl=1.5, pose=12.0, kobj=1.0, nbs=64, hsv_h=0.015, hsv_s=0.7, hsv_v=0.4, degrees=0.0, translate=0.1, scale=0.5, shear=0.0, perspective=0.0, flipud=0.0, fliplr=0.5, bgr=0.0, mosaic=1.0, mixup=0.0, copy_paste=0.0, copy_paste_mode=flip, auto_augment=randaugment, erasing=0.4, crop_fraction=1.0, cfg=None, tracker=botsort.yaml, save_dir=runs/detect/train2\n",
      "Downloading https://ultralytics.com/assets/Arial.ttf to '/root/.config/Ultralytics/Arial.ttf'...\n"
     ]
    },
    {
     "name": "stderr",
     "output_type": "stream",
     "text": [
      "100%|██████████| 755k/755k [00:00<00:00, 132MB/s]\n"
     ]
    },
    {
     "name": "stdout",
     "output_type": "stream",
     "text": [
      "Overriding model.yaml nc=80 with nc=13\n",
      "\n",
      "                   from  n    params  module                                       arguments                     \n",
      "  0                  -1  1       464  ultralytics.nn.modules.conv.Conv             [3, 16, 3, 2]                 \n",
      "  1                  -1  1      4672  ultralytics.nn.modules.conv.Conv             [16, 32, 3, 2]                \n",
      "  2                  -1  1      7360  ultralytics.nn.modules.block.C2f             [32, 32, 1, True]             \n",
      "  3                  -1  1     18560  ultralytics.nn.modules.conv.Conv             [32, 64, 3, 2]                \n",
      "  4                  -1  2     49664  ultralytics.nn.modules.block.C2f             [64, 64, 2, True]             \n",
      "  5                  -1  1     73984  ultralytics.nn.modules.conv.Conv             [64, 128, 3, 2]               \n",
      "  6                  -1  2    197632  ultralytics.nn.modules.block.C2f             [128, 128, 2, True]           \n",
      "  7                  -1  1    295424  ultralytics.nn.modules.conv.Conv             [128, 256, 3, 2]              \n",
      "  8                  -1  1    460288  ultralytics.nn.modules.block.C2f             [256, 256, 1, True]           \n",
      "  9                  -1  1    164608  ultralytics.nn.modules.block.SPPF            [256, 256, 5]                 \n",
      " 10                  -1  1         0  torch.nn.modules.upsampling.Upsample         [None, 2, 'nearest']          \n",
      " 11             [-1, 6]  1         0  ultralytics.nn.modules.conv.Concat           [1]                           \n",
      " 12                  -1  1    148224  ultralytics.nn.modules.block.C2f             [384, 128, 1]                 \n",
      " 13                  -1  1         0  torch.nn.modules.upsampling.Upsample         [None, 2, 'nearest']          \n",
      " 14             [-1, 4]  1         0  ultralytics.nn.modules.conv.Concat           [1]                           \n",
      " 15                  -1  1     37248  ultralytics.nn.modules.block.C2f             [192, 64, 1]                  \n",
      " 16                  -1  1     36992  ultralytics.nn.modules.conv.Conv             [64, 64, 3, 2]                \n",
      " 17            [-1, 12]  1         0  ultralytics.nn.modules.conv.Concat           [1]                           \n",
      " 18                  -1  1    123648  ultralytics.nn.modules.block.C2f             [192, 128, 1]                 \n",
      " 19                  -1  1    147712  ultralytics.nn.modules.conv.Conv             [128, 128, 3, 2]              \n",
      " 20             [-1, 9]  1         0  ultralytics.nn.modules.conv.Concat           [1]                           \n",
      " 21                  -1  1    493056  ultralytics.nn.modules.block.C2f             [384, 256, 1]                 \n",
      " 22        [15, 18, 21]  1    753847  ultralytics.nn.modules.head.Detect           [13, [64, 128, 256]]          \n",
      "Model summary: 225 layers, 3,013,383 parameters, 3,013,367 gradients, 8.2 GFLOPs\n",
      "\n",
      "Transferred 319/355 items from pretrained weights\n",
      "\u001b[34m\u001b[1mTensorBoard: \u001b[0mStart with 'tensorboard --logdir runs/detect/train2', view at http://localhost:6006/\n",
      "Freezing layer 'model.22.dfl.conv.weight'\n",
      "\u001b[34m\u001b[1mAMP: \u001b[0mrunning Automatic Mixed Precision (AMP) checks...\n",
      "\u001b[34m\u001b[1mAMP: \u001b[0mchecks passed ✅\n"
     ]
    },
    {
     "name": "stderr",
     "output_type": "stream",
     "text": [
      "\u001b[34m\u001b[1mtrain: \u001b[0mScanning /content/dataset/train/labels... 1397 images, 0 backgrounds, 0 corrupt: 100%|██████████| 1397/1397 [00:01<00:00, 785.20it/s]\n"
     ]
    },
    {
     "name": "stdout",
     "output_type": "stream",
     "text": [
      "\u001b[34m\u001b[1mtrain: \u001b[0mNew cache created: /content/dataset/train/labels.cache\n",
      "\u001b[34m\u001b[1malbumentations: \u001b[0mBlur(p=0.01, blur_limit=(3, 7)), MedianBlur(p=0.01, blur_limit=(3, 7)), ToGray(p=0.01, num_output_channels=3, method='weighted_average'), CLAHE(p=0.01, clip_limit=(1.0, 4.0), tile_grid_size=(8, 8))\n"
     ]
    },
    {
     "name": "stderr",
     "output_type": "stream",
     "text": [
      "\u001b[34m\u001b[1mval: \u001b[0mScanning /content/dataset/valid/labels... 398 images, 0 backgrounds, 0 corrupt: 100%|██████████| 398/398 [00:00<00:00, 524.62it/s]"
     ]
    },
    {
     "name": "stdout",
     "output_type": "stream",
     "text": [
      "\u001b[34m\u001b[1mval: \u001b[0mNew cache created: /content/dataset/valid/labels.cache\n"
     ]
    },
    {
     "name": "stderr",
     "output_type": "stream",
     "text": [
      "\n"
     ]
    },
    {
     "name": "stdout",
     "output_type": "stream",
     "text": [
      "Plotting labels to runs/detect/train2/labels.jpg... \n",
      "\u001b[34m\u001b[1moptimizer:\u001b[0m 'optimizer=auto' found, ignoring 'lr0=0.01' and 'momentum=0.937' and determining best 'optimizer', 'lr0' and 'momentum' automatically... \n",
      "\u001b[34m\u001b[1moptimizer:\u001b[0m AdamW(lr=0.000588, momentum=0.9) with parameter groups 57 weight(decay=0.0), 64 weight(decay=0.0005), 63 bias(decay=0.0)\n",
      "\u001b[34m\u001b[1mTensorBoard: \u001b[0mmodel graph visualization added ✅\n",
      "Image sizes 640 train, 640 val\n",
      "Using 2 dataloader workers\n",
      "Logging results to \u001b[1mruns/detect/train2\u001b[0m\n",
      "Starting training for 50 epochs...\n",
      "\n",
      "      Epoch    GPU_mem   box_loss   cls_loss   dfl_loss  Instances       Size\n"
     ]
    },
    {
     "name": "stderr",
     "output_type": "stream",
     "text": [
      "       1/50      2.38G     0.7489       2.98     0.8935         38        640: 100%|██████████| 88/88 [00:28<00:00,  3.11it/s]\n",
      "                 Class     Images  Instances      Box(P          R      mAP50  mAP50-95): 100%|██████████| 13/13 [00:05<00:00,  2.25it/s]"
     ]
    },
    {
     "name": "stdout",
     "output_type": "stream",
     "text": [
      "                   all        398       3022      0.527      0.249      0.488      0.421\n"
     ]
    },
    {
     "name": "stderr",
     "output_type": "stream",
     "text": [
      "\n"
     ]
    },
    {
     "name": "stdout",
     "output_type": "stream",
     "text": [
      "\n",
      "      Epoch    GPU_mem   box_loss   cls_loss   dfl_loss  Instances       Size\n"
     ]
    },
    {
     "name": "stderr",
     "output_type": "stream",
     "text": [
      "       2/50      2.42G     0.6316      1.353     0.8668         83        640: 100%|██████████| 88/88 [00:25<00:00,  3.45it/s]\n",
      "                 Class     Images  Instances      Box(P          R      mAP50  mAP50-95): 100%|██████████| 13/13 [00:04<00:00,  2.70it/s]\n"
     ]
    },
    {
     "name": "stdout",
     "output_type": "stream",
     "text": [
      "                   all        398       3022      0.701      0.855      0.822      0.719\n",
      "\n",
      "      Epoch    GPU_mem   box_loss   cls_loss   dfl_loss  Instances       Size\n"
     ]
    },
    {
     "name": "stderr",
     "output_type": "stream",
     "text": [
      "       3/50      2.38G     0.5824     0.9956     0.8557         85        640: 100%|██████████| 88/88 [00:25<00:00,  3.43it/s]\n",
      "                 Class     Images  Instances      Box(P          R      mAP50  mAP50-95): 100%|██████████| 13/13 [00:03<00:00,  3.61it/s]\n"
     ]
    },
    {
     "name": "stdout",
     "output_type": "stream",
     "text": [
      "                   all        398       3022       0.86      0.894      0.925      0.833\n",
      "\n",
      "      Epoch    GPU_mem   box_loss   cls_loss   dfl_loss  Instances       Size\n"
     ]
    },
    {
     "name": "stderr",
     "output_type": "stream",
     "text": [
      "       4/50      2.38G     0.5619     0.8931      0.855         82        640: 100%|██████████| 88/88 [00:25<00:00,  3.43it/s]\n",
      "                 Class     Images  Instances      Box(P          R      mAP50  mAP50-95): 100%|██████████| 13/13 [00:03<00:00,  3.66it/s]\n"
     ]
    },
    {
     "name": "stdout",
     "output_type": "stream",
     "text": [
      "                   all        398       3022       0.89      0.906      0.949      0.855\n",
      "\n",
      "      Epoch    GPU_mem   box_loss   cls_loss   dfl_loss  Instances       Size\n"
     ]
    },
    {
     "name": "stderr",
     "output_type": "stream",
     "text": [
      "       5/50      2.37G     0.5469     0.7898     0.8513         73        640: 100%|██████████| 88/88 [00:25<00:00,  3.42it/s]\n",
      "                 Class     Images  Instances      Box(P          R      mAP50  mAP50-95): 100%|██████████| 13/13 [00:03<00:00,  3.28it/s]\n"
     ]
    },
    {
     "name": "stdout",
     "output_type": "stream",
     "text": [
      "                   all        398       3022      0.964      0.955      0.982      0.889\n",
      "\n",
      "      Epoch    GPU_mem   box_loss   cls_loss   dfl_loss  Instances       Size\n"
     ]
    },
    {
     "name": "stderr",
     "output_type": "stream",
     "text": [
      "       6/50      2.38G     0.5282     0.6967     0.8476         21        640: 100%|██████████| 88/88 [00:25<00:00,  3.45it/s]\n",
      "                 Class     Images  Instances      Box(P          R      mAP50  mAP50-95): 100%|██████████| 13/13 [00:03<00:00,  3.70it/s]\n"
     ]
    },
    {
     "name": "stdout",
     "output_type": "stream",
     "text": [
      "                   all        398       3022       0.97      0.965      0.988      0.894\n",
      "\n",
      "      Epoch    GPU_mem   box_loss   cls_loss   dfl_loss  Instances       Size\n"
     ]
    },
    {
     "name": "stderr",
     "output_type": "stream",
     "text": [
      "       7/50      2.33G      0.522     0.6636     0.8484         65        640: 100%|██████████| 88/88 [00:25<00:00,  3.42it/s]\n",
      "                 Class     Images  Instances      Box(P          R      mAP50  mAP50-95): 100%|██████████| 13/13 [00:04<00:00,  3.13it/s]"
     ]
    },
    {
     "name": "stdout",
     "output_type": "stream",
     "text": [
      "                   all        398       3022      0.961      0.962      0.985        0.9\n"
     ]
    },
    {
     "name": "stderr",
     "output_type": "stream",
     "text": [
      "\n"
     ]
    },
    {
     "name": "stdout",
     "output_type": "stream",
     "text": [
      "\n",
      "      Epoch    GPU_mem   box_loss   cls_loss   dfl_loss  Instances       Size\n"
     ]
    },
    {
     "name": "stderr",
     "output_type": "stream",
     "text": [
      "       8/50      2.41G     0.5036     0.6465      0.843         52        640: 100%|██████████| 88/88 [00:24<00:00,  3.63it/s]\n",
      "                 Class     Images  Instances      Box(P          R      mAP50  mAP50-95): 100%|██████████| 13/13 [00:04<00:00,  2.65it/s]"
     ]
    },
    {
     "name": "stdout",
     "output_type": "stream",
     "text": [
      "                   all        398       3022      0.969      0.969      0.986      0.905\n"
     ]
    },
    {
     "name": "stderr",
     "output_type": "stream",
     "text": [
      "\n"
     ]
    },
    {
     "name": "stdout",
     "output_type": "stream",
     "text": [
      "\n",
      "      Epoch    GPU_mem   box_loss   cls_loss   dfl_loss  Instances       Size\n"
     ]
    },
    {
     "name": "stderr",
     "output_type": "stream",
     "text": [
      "       9/50      2.32G     0.4998      0.609      0.842         52        640: 100%|██████████| 88/88 [00:26<00:00,  3.35it/s]\n",
      "                 Class     Images  Instances      Box(P          R      mAP50  mAP50-95): 100%|██████████| 13/13 [00:04<00:00,  2.91it/s]\n"
     ]
    },
    {
     "name": "stdout",
     "output_type": "stream",
     "text": [
      "                   all        398       3022      0.976      0.969      0.991      0.913\n",
      "\n",
      "      Epoch    GPU_mem   box_loss   cls_loss   dfl_loss  Instances       Size\n"
     ]
    },
    {
     "name": "stderr",
     "output_type": "stream",
     "text": [
      "      10/50       2.4G     0.4928     0.5799     0.8455         41        640: 100%|██████████| 88/88 [00:25<00:00,  3.44it/s]\n",
      "                 Class     Images  Instances      Box(P          R      mAP50  mAP50-95): 100%|██████████| 13/13 [00:03<00:00,  3.92it/s]"
     ]
    },
    {
     "name": "stdout",
     "output_type": "stream",
     "text": [
      "                   all        398       3022      0.979      0.977      0.992      0.909\n"
     ]
    },
    {
     "name": "stderr",
     "output_type": "stream",
     "text": [
      "\n"
     ]
    },
    {
     "name": "stdout",
     "output_type": "stream",
     "text": [
      "\n",
      "      Epoch    GPU_mem   box_loss   cls_loss   dfl_loss  Instances       Size\n"
     ]
    },
    {
     "name": "stderr",
     "output_type": "stream",
     "text": [
      "      11/50      2.39G     0.4912     0.5522     0.8441         46        640: 100%|██████████| 88/88 [00:24<00:00,  3.53it/s]\n",
      "                 Class     Images  Instances      Box(P          R      mAP50  mAP50-95): 100%|██████████| 13/13 [00:03<00:00,  3.57it/s]"
     ]
    },
    {
     "name": "stdout",
     "output_type": "stream",
     "text": [
      "                   all        398       3022      0.976       0.97       0.99      0.914\n"
     ]
    },
    {
     "name": "stderr",
     "output_type": "stream",
     "text": [
      "\n"
     ]
    },
    {
     "name": "stdout",
     "output_type": "stream",
     "text": [
      "\n",
      "      Epoch    GPU_mem   box_loss   cls_loss   dfl_loss  Instances       Size\n"
     ]
    },
    {
     "name": "stderr",
     "output_type": "stream",
     "text": [
      "      12/50      2.32G     0.4857     0.5313     0.8411         61        640: 100%|██████████| 88/88 [00:25<00:00,  3.45it/s]\n",
      "                 Class     Images  Instances      Box(P          R      mAP50  mAP50-95): 100%|██████████| 13/13 [00:03<00:00,  3.86it/s]\n"
     ]
    },
    {
     "name": "stdout",
     "output_type": "stream",
     "text": [
      "                   all        398       3022      0.983       0.98      0.993      0.916\n",
      "\n",
      "      Epoch    GPU_mem   box_loss   cls_loss   dfl_loss  Instances       Size\n"
     ]
    },
    {
     "name": "stderr",
     "output_type": "stream",
     "text": [
      "      13/50      2.37G     0.4854      0.524     0.8415         42        640: 100%|██████████| 88/88 [00:25<00:00,  3.50it/s]\n",
      "                 Class     Images  Instances      Box(P          R      mAP50  mAP50-95): 100%|██████████| 13/13 [00:03<00:00,  3.61it/s]\n"
     ]
    },
    {
     "name": "stdout",
     "output_type": "stream",
     "text": [
      "                   all        398       3022      0.981      0.977      0.991      0.916\n",
      "\n",
      "      Epoch    GPU_mem   box_loss   cls_loss   dfl_loss  Instances       Size\n"
     ]
    },
    {
     "name": "stderr",
     "output_type": "stream",
     "text": [
      "      14/50      2.38G     0.4708     0.5142      0.839         38        640: 100%|██████████| 88/88 [00:25<00:00,  3.46it/s]\n",
      "                 Class     Images  Instances      Box(P          R      mAP50  mAP50-95): 100%|██████████| 13/13 [00:03<00:00,  3.84it/s]"
     ]
    },
    {
     "name": "stdout",
     "output_type": "stream",
     "text": [
      "                   all        398       3022      0.985      0.978      0.992      0.922\n"
     ]
    },
    {
     "name": "stderr",
     "output_type": "stream",
     "text": [
      "\n"
     ]
    },
    {
     "name": "stdout",
     "output_type": "stream",
     "text": [
      "\n",
      "      Epoch    GPU_mem   box_loss   cls_loss   dfl_loss  Instances       Size\n"
     ]
    },
    {
     "name": "stderr",
     "output_type": "stream",
     "text": [
      "      15/50       2.4G     0.4716     0.4949     0.8379         75        640: 100%|██████████| 88/88 [00:25<00:00,  3.47it/s]\n",
      "                 Class     Images  Instances      Box(P          R      mAP50  mAP50-95): 100%|██████████| 13/13 [00:03<00:00,  3.74it/s]\n"
     ]
    },
    {
     "name": "stdout",
     "output_type": "stream",
     "text": [
      "                   all        398       3022      0.985       0.97      0.991      0.919\n",
      "\n",
      "      Epoch    GPU_mem   box_loss   cls_loss   dfl_loss  Instances       Size\n"
     ]
    },
    {
     "name": "stderr",
     "output_type": "stream",
     "text": [
      "      16/50      2.37G     0.4683     0.4862     0.8386         41        640: 100%|██████████| 88/88 [00:24<00:00,  3.59it/s]\n",
      "                 Class     Images  Instances      Box(P          R      mAP50  mAP50-95): 100%|██████████| 13/13 [00:03<00:00,  3.48it/s]"
     ]
    },
    {
     "name": "stdout",
     "output_type": "stream",
     "text": [
      "                   all        398       3022      0.973      0.971       0.99      0.922\n"
     ]
    },
    {
     "name": "stderr",
     "output_type": "stream",
     "text": [
      "\n"
     ]
    },
    {
     "name": "stdout",
     "output_type": "stream",
     "text": [
      "\n",
      "      Epoch    GPU_mem   box_loss   cls_loss   dfl_loss  Instances       Size\n"
     ]
    },
    {
     "name": "stderr",
     "output_type": "stream",
     "text": [
      "      17/50      2.36G     0.4629      0.468     0.8347         93        640: 100%|██████████| 88/88 [00:24<00:00,  3.63it/s]\n",
      "                 Class     Images  Instances      Box(P          R      mAP50  mAP50-95): 100%|██████████| 13/13 [00:04<00:00,  2.77it/s]"
     ]
    },
    {
     "name": "stdout",
     "output_type": "stream",
     "text": [
      "                   all        398       3022       0.99      0.984      0.994      0.928\n"
     ]
    },
    {
     "name": "stderr",
     "output_type": "stream",
     "text": [
      "\n"
     ]
    },
    {
     "name": "stdout",
     "output_type": "stream",
     "text": [
      "\n",
      "      Epoch    GPU_mem   box_loss   cls_loss   dfl_loss  Instances       Size\n"
     ]
    },
    {
     "name": "stderr",
     "output_type": "stream",
     "text": [
      "      18/50      2.28G     0.4598     0.4552     0.8369         77        640: 100%|██████████| 88/88 [00:24<00:00,  3.60it/s]\n",
      "                 Class     Images  Instances      Box(P          R      mAP50  mAP50-95): 100%|██████████| 13/13 [00:04<00:00,  2.61it/s]"
     ]
    },
    {
     "name": "stdout",
     "output_type": "stream",
     "text": [
      "                   all        398       3022      0.988      0.984      0.994      0.931\n"
     ]
    },
    {
     "name": "stderr",
     "output_type": "stream",
     "text": [
      "\n"
     ]
    },
    {
     "name": "stdout",
     "output_type": "stream",
     "text": [
      "\n",
      "      Epoch    GPU_mem   box_loss   cls_loss   dfl_loss  Instances       Size\n"
     ]
    },
    {
     "name": "stderr",
     "output_type": "stream",
     "text": [
      "      19/50       2.4G     0.4519     0.4424     0.8368         37        640: 100%|██████████| 88/88 [00:23<00:00,  3.73it/s]\n",
      "                 Class     Images  Instances      Box(P          R      mAP50  mAP50-95): 100%|██████████| 13/13 [00:04<00:00,  2.73it/s]"
     ]
    },
    {
     "name": "stdout",
     "output_type": "stream",
     "text": [
      "                   all        398       3022      0.991       0.98      0.993      0.925\n"
     ]
    },
    {
     "name": "stderr",
     "output_type": "stream",
     "text": [
      "\n"
     ]
    },
    {
     "name": "stdout",
     "output_type": "stream",
     "text": [
      "\n",
      "      Epoch    GPU_mem   box_loss   cls_loss   dfl_loss  Instances       Size\n"
     ]
    },
    {
     "name": "stderr",
     "output_type": "stream",
     "text": [
      "      20/50      2.39G     0.4502     0.4325     0.8328         36        640: 100%|██████████| 88/88 [00:23<00:00,  3.68it/s]\n",
      "                 Class     Images  Instances      Box(P          R      mAP50  mAP50-95): 100%|██████████| 13/13 [00:04<00:00,  2.89it/s]"
     ]
    },
    {
     "name": "stdout",
     "output_type": "stream",
     "text": [
      "                   all        398       3022      0.989      0.983      0.993      0.933\n"
     ]
    },
    {
     "name": "stderr",
     "output_type": "stream",
     "text": [
      "\n"
     ]
    },
    {
     "name": "stdout",
     "output_type": "stream",
     "text": [
      "\n",
      "      Epoch    GPU_mem   box_loss   cls_loss   dfl_loss  Instances       Size\n"
     ]
    },
    {
     "name": "stderr",
     "output_type": "stream",
     "text": [
      "      21/50      2.38G     0.4496     0.4281     0.8313         84        640: 100%|██████████| 88/88 [00:25<00:00,  3.45it/s]\n",
      "                 Class     Images  Instances      Box(P          R      mAP50  mAP50-95): 100%|██████████| 13/13 [00:03<00:00,  3.62it/s]"
     ]
    },
    {
     "name": "stdout",
     "output_type": "stream",
     "text": [
      "                   all        398       3022      0.992      0.981      0.994      0.933\n"
     ]
    },
    {
     "name": "stderr",
     "output_type": "stream",
     "text": [
      "\n"
     ]
    },
    {
     "name": "stdout",
     "output_type": "stream",
     "text": [
      "\n",
      "      Epoch    GPU_mem   box_loss   cls_loss   dfl_loss  Instances       Size\n"
     ]
    },
    {
     "name": "stderr",
     "output_type": "stream",
     "text": [
      "      22/50      2.29G      0.441     0.4141      0.831         53        640: 100%|██████████| 88/88 [00:25<00:00,  3.47it/s]\n",
      "                 Class     Images  Instances      Box(P          R      mAP50  mAP50-95): 100%|██████████| 13/13 [00:03<00:00,  3.73it/s]\n"
     ]
    },
    {
     "name": "stdout",
     "output_type": "stream",
     "text": [
      "                   all        398       3022       0.99      0.983      0.993       0.93\n",
      "\n",
      "      Epoch    GPU_mem   box_loss   cls_loss   dfl_loss  Instances       Size\n"
     ]
    },
    {
     "name": "stderr",
     "output_type": "stream",
     "text": [
      "      23/50      2.37G     0.4421     0.4108     0.8303         55        640: 100%|██████████| 88/88 [00:25<00:00,  3.41it/s]\n",
      "                 Class     Images  Instances      Box(P          R      mAP50  mAP50-95): 100%|██████████| 13/13 [00:03<00:00,  3.80it/s]"
     ]
    },
    {
     "name": "stdout",
     "output_type": "stream",
     "text": [
      "                   all        398       3022      0.993      0.983      0.994      0.937\n"
     ]
    },
    {
     "name": "stderr",
     "output_type": "stream",
     "text": [
      "\n"
     ]
    },
    {
     "name": "stdout",
     "output_type": "stream",
     "text": [
      "\n",
      "      Epoch    GPU_mem   box_loss   cls_loss   dfl_loss  Instances       Size\n"
     ]
    },
    {
     "name": "stderr",
     "output_type": "stream",
     "text": [
      "      24/50      2.39G     0.4376     0.4087     0.8297        113        640: 100%|██████████| 88/88 [00:25<00:00,  3.39it/s]\n",
      "                 Class     Images  Instances      Box(P          R      mAP50  mAP50-95): 100%|██████████| 13/13 [00:03<00:00,  3.85it/s]"
     ]
    },
    {
     "name": "stdout",
     "output_type": "stream",
     "text": [
      "                   all        398       3022      0.995      0.987      0.994      0.937\n"
     ]
    },
    {
     "name": "stderr",
     "output_type": "stream",
     "text": [
      "\n"
     ]
    },
    {
     "name": "stdout",
     "output_type": "stream",
     "text": [
      "\n",
      "      Epoch    GPU_mem   box_loss   cls_loss   dfl_loss  Instances       Size\n"
     ]
    },
    {
     "name": "stderr",
     "output_type": "stream",
     "text": [
      "      25/50      2.37G       0.43     0.3988     0.8306         39        640: 100%|██████████| 88/88 [00:25<00:00,  3.42it/s]\n",
      "                 Class     Images  Instances      Box(P          R      mAP50  mAP50-95): 100%|██████████| 13/13 [00:03<00:00,  3.78it/s]"
     ]
    },
    {
     "name": "stdout",
     "output_type": "stream",
     "text": [
      "                   all        398       3022      0.988      0.984      0.994      0.938\n"
     ]
    },
    {
     "name": "stderr",
     "output_type": "stream",
     "text": [
      "\n"
     ]
    },
    {
     "name": "stdout",
     "output_type": "stream",
     "text": [
      "\n",
      "      Epoch    GPU_mem   box_loss   cls_loss   dfl_loss  Instances       Size\n"
     ]
    },
    {
     "name": "stderr",
     "output_type": "stream",
     "text": [
      "      26/50      2.39G     0.4378     0.3986     0.8308         44        640: 100%|██████████| 88/88 [00:27<00:00,  3.25it/s]\n",
      "                 Class     Images  Instances      Box(P          R      mAP50  mAP50-95): 100%|██████████| 13/13 [00:04<00:00,  2.64it/s]"
     ]
    },
    {
     "name": "stdout",
     "output_type": "stream",
     "text": [
      "                   all        398       3022      0.994      0.986      0.994      0.936\n"
     ]
    },
    {
     "name": "stderr",
     "output_type": "stream",
     "text": [
      "\n"
     ]
    },
    {
     "name": "stdout",
     "output_type": "stream",
     "text": [
      "\n",
      "      Epoch    GPU_mem   box_loss   cls_loss   dfl_loss  Instances       Size\n"
     ]
    },
    {
     "name": "stderr",
     "output_type": "stream",
     "text": [
      "      27/50      2.28G     0.4295     0.3852     0.8297         53        640: 100%|██████████| 88/88 [00:24<00:00,  3.59it/s]\n",
      "                 Class     Images  Instances      Box(P          R      mAP50  mAP50-95): 100%|██████████| 13/13 [00:04<00:00,  2.86it/s]"
     ]
    },
    {
     "name": "stdout",
     "output_type": "stream",
     "text": [
      "                   all        398       3022      0.994      0.985      0.994      0.939\n"
     ]
    },
    {
     "name": "stderr",
     "output_type": "stream",
     "text": [
      "\n"
     ]
    },
    {
     "name": "stdout",
     "output_type": "stream",
     "text": [
      "\n",
      "      Epoch    GPU_mem   box_loss   cls_loss   dfl_loss  Instances       Size\n"
     ]
    },
    {
     "name": "stderr",
     "output_type": "stream",
     "text": [
      "      28/50      2.46G     0.4278     0.3819     0.8283         55        640: 100%|██████████| 88/88 [00:25<00:00,  3.48it/s]\n",
      "                 Class     Images  Instances      Box(P          R      mAP50  mAP50-95): 100%|██████████| 13/13 [00:03<00:00,  3.46it/s]"
     ]
    },
    {
     "name": "stdout",
     "output_type": "stream",
     "text": [
      "                   all        398       3022      0.994      0.985      0.994      0.941\n"
     ]
    },
    {
     "name": "stderr",
     "output_type": "stream",
     "text": [
      "\n"
     ]
    },
    {
     "name": "stdout",
     "output_type": "stream",
     "text": [
      "\n",
      "      Epoch    GPU_mem   box_loss   cls_loss   dfl_loss  Instances       Size\n"
     ]
    },
    {
     "name": "stderr",
     "output_type": "stream",
     "text": [
      "      29/50      2.39G     0.4228     0.3753     0.8285         18        640: 100%|██████████| 88/88 [00:26<00:00,  3.37it/s]\n",
      "                 Class     Images  Instances      Box(P          R      mAP50  mAP50-95): 100%|██████████| 13/13 [00:03<00:00,  3.81it/s]"
     ]
    },
    {
     "name": "stdout",
     "output_type": "stream",
     "text": [
      "                   all        398       3022      0.996      0.987      0.995      0.938\n"
     ]
    },
    {
     "name": "stderr",
     "output_type": "stream",
     "text": [
      "\n"
     ]
    },
    {
     "name": "stdout",
     "output_type": "stream",
     "text": [
      "\n",
      "      Epoch    GPU_mem   box_loss   cls_loss   dfl_loss  Instances       Size\n"
     ]
    },
    {
     "name": "stderr",
     "output_type": "stream",
     "text": [
      "      30/50      2.28G     0.4203     0.3713     0.8293         56        640: 100%|██████████| 88/88 [00:25<00:00,  3.49it/s]\n",
      "                 Class     Images  Instances      Box(P          R      mAP50  mAP50-95): 100%|██████████| 13/13 [00:03<00:00,  3.74it/s]"
     ]
    },
    {
     "name": "stdout",
     "output_type": "stream",
     "text": [
      "                   all        398       3022      0.996      0.986      0.995      0.943\n"
     ]
    },
    {
     "name": "stderr",
     "output_type": "stream",
     "text": [
      "\n"
     ]
    },
    {
     "name": "stdout",
     "output_type": "stream",
     "text": [
      "\n",
      "      Epoch    GPU_mem   box_loss   cls_loss   dfl_loss  Instances       Size\n"
     ]
    },
    {
     "name": "stderr",
     "output_type": "stream",
     "text": [
      "      31/50       2.3G     0.4212     0.3643     0.8288         46        640: 100%|██████████| 88/88 [00:25<00:00,  3.49it/s]\n",
      "                 Class     Images  Instances      Box(P          R      mAP50  mAP50-95): 100%|██████████| 13/13 [00:03<00:00,  3.90it/s]"
     ]
    },
    {
     "name": "stdout",
     "output_type": "stream",
     "text": [
      "                   all        398       3022      0.995      0.988      0.995      0.941\n"
     ]
    },
    {
     "name": "stderr",
     "output_type": "stream",
     "text": [
      "\n"
     ]
    },
    {
     "name": "stdout",
     "output_type": "stream",
     "text": [
      "\n",
      "      Epoch    GPU_mem   box_loss   cls_loss   dfl_loss  Instances       Size\n"
     ]
    },
    {
     "name": "stderr",
     "output_type": "stream",
     "text": [
      "      32/50      2.31G     0.4183     0.3643     0.8276         31        640: 100%|██████████| 88/88 [00:25<00:00,  3.45it/s]\n",
      "                 Class     Images  Instances      Box(P          R      mAP50  mAP50-95): 100%|██████████| 13/13 [00:03<00:00,  3.86it/s]\n"
     ]
    },
    {
     "name": "stdout",
     "output_type": "stream",
     "text": [
      "                   all        398       3022      0.996      0.987      0.994      0.943\n",
      "\n",
      "      Epoch    GPU_mem   box_loss   cls_loss   dfl_loss  Instances       Size\n"
     ]
    },
    {
     "name": "stderr",
     "output_type": "stream",
     "text": [
      "      33/50      2.37G     0.4158     0.3605      0.828         86        640: 100%|██████████| 88/88 [00:25<00:00,  3.45it/s]\n",
      "                 Class     Images  Instances      Box(P          R      mAP50  mAP50-95): 100%|██████████| 13/13 [00:03<00:00,  3.97it/s]"
     ]
    },
    {
     "name": "stdout",
     "output_type": "stream",
     "text": [
      "                   all        398       3022      0.995      0.987      0.994      0.942\n"
     ]
    },
    {
     "name": "stderr",
     "output_type": "stream",
     "text": [
      "\n"
     ]
    },
    {
     "name": "stdout",
     "output_type": "stream",
     "text": [
      "\n",
      "      Epoch    GPU_mem   box_loss   cls_loss   dfl_loss  Instances       Size\n"
     ]
    },
    {
     "name": "stderr",
     "output_type": "stream",
     "text": [
      "      34/50      2.28G     0.4184     0.3622      0.829         67        640: 100%|██████████| 88/88 [00:25<00:00,  3.43it/s]\n",
      "                 Class     Images  Instances      Box(P          R      mAP50  mAP50-95): 100%|██████████| 13/13 [00:03<00:00,  3.34it/s]"
     ]
    },
    {
     "name": "stdout",
     "output_type": "stream",
     "text": [
      "                   all        398       3022      0.996      0.988      0.995      0.942\n"
     ]
    },
    {
     "name": "stderr",
     "output_type": "stream",
     "text": [
      "\n"
     ]
    },
    {
     "name": "stdout",
     "output_type": "stream",
     "text": [
      "\n",
      "      Epoch    GPU_mem   box_loss   cls_loss   dfl_loss  Instances       Size\n"
     ]
    },
    {
     "name": "stderr",
     "output_type": "stream",
     "text": [
      "      35/50      2.32G     0.4113     0.3536     0.8243        112        640: 100%|██████████| 88/88 [00:26<00:00,  3.33it/s]\n",
      "                 Class     Images  Instances      Box(P          R      mAP50  mAP50-95): 100%|██████████| 13/13 [00:04<00:00,  2.67it/s]"
     ]
    },
    {
     "name": "stdout",
     "output_type": "stream",
     "text": [
      "                   all        398       3022      0.997      0.987      0.994      0.944\n"
     ]
    },
    {
     "name": "stderr",
     "output_type": "stream",
     "text": [
      "\n"
     ]
    },
    {
     "name": "stdout",
     "output_type": "stream",
     "text": [
      "\n",
      "      Epoch    GPU_mem   box_loss   cls_loss   dfl_loss  Instances       Size\n"
     ]
    },
    {
     "name": "stderr",
     "output_type": "stream",
     "text": [
      "      36/50      2.51G     0.4117     0.3506     0.8243         82        640: 100%|██████████| 88/88 [00:26<00:00,  3.30it/s]\n",
      "                 Class     Images  Instances      Box(P          R      mAP50  mAP50-95): 100%|██████████| 13/13 [00:03<00:00,  3.74it/s]"
     ]
    },
    {
     "name": "stdout",
     "output_type": "stream",
     "text": [
      "                   all        398       3022      0.996      0.989      0.994      0.945\n"
     ]
    },
    {
     "name": "stderr",
     "output_type": "stream",
     "text": [
      "\n"
     ]
    },
    {
     "name": "stdout",
     "output_type": "stream",
     "text": [
      "\n",
      "      Epoch    GPU_mem   box_loss   cls_loss   dfl_loss  Instances       Size\n"
     ]
    },
    {
     "name": "stderr",
     "output_type": "stream",
     "text": [
      "      37/50      2.41G     0.4089     0.3504     0.8253         51        640: 100%|██████████| 88/88 [00:25<00:00,  3.48it/s]\n",
      "                 Class     Images  Instances      Box(P          R      mAP50  mAP50-95): 100%|██████████| 13/13 [00:03<00:00,  3.68it/s]"
     ]
    },
    {
     "name": "stdout",
     "output_type": "stream",
     "text": [
      "                   all        398       3022      0.996      0.987      0.995      0.943\n"
     ]
    },
    {
     "name": "stderr",
     "output_type": "stream",
     "text": [
      "\n"
     ]
    },
    {
     "name": "stdout",
     "output_type": "stream",
     "text": [
      "\n",
      "      Epoch    GPU_mem   box_loss   cls_loss   dfl_loss  Instances       Size\n"
     ]
    },
    {
     "name": "stderr",
     "output_type": "stream",
     "text": [
      "      38/50      2.39G     0.4029     0.3361     0.8236         55        640: 100%|██████████| 88/88 [00:25<00:00,  3.46it/s]\n",
      "                 Class     Images  Instances      Box(P          R      mAP50  mAP50-95): 100%|██████████| 13/13 [00:03<00:00,  3.73it/s]"
     ]
    },
    {
     "name": "stdout",
     "output_type": "stream",
     "text": [
      "                   all        398       3022      0.994      0.989      0.995      0.946\n"
     ]
    },
    {
     "name": "stderr",
     "output_type": "stream",
     "text": [
      "\n"
     ]
    },
    {
     "name": "stdout",
     "output_type": "stream",
     "text": [
      "\n",
      "      Epoch    GPU_mem   box_loss   cls_loss   dfl_loss  Instances       Size\n"
     ]
    },
    {
     "name": "stderr",
     "output_type": "stream",
     "text": [
      "      39/50      2.41G     0.4048      0.339     0.8267         24        640: 100%|██████████| 88/88 [00:25<00:00,  3.45it/s]\n",
      "                 Class     Images  Instances      Box(P          R      mAP50  mAP50-95): 100%|██████████| 13/13 [00:03<00:00,  3.78it/s]\n"
     ]
    },
    {
     "name": "stdout",
     "output_type": "stream",
     "text": [
      "                   all        398       3022      0.994      0.985      0.994      0.946\n",
      "\n",
      "      Epoch    GPU_mem   box_loss   cls_loss   dfl_loss  Instances       Size\n"
     ]
    },
    {
     "name": "stderr",
     "output_type": "stream",
     "text": [
      "      40/50      2.28G      0.404     0.3362      0.823         68        640: 100%|██████████| 88/88 [00:25<00:00,  3.44it/s]\n",
      "                 Class     Images  Instances      Box(P          R      mAP50  mAP50-95): 100%|██████████| 13/13 [00:03<00:00,  3.66it/s]"
     ]
    },
    {
     "name": "stdout",
     "output_type": "stream",
     "text": [
      "                   all        398       3022      0.996      0.987      0.994      0.947\n"
     ]
    },
    {
     "name": "stderr",
     "output_type": "stream",
     "text": [
      "\n"
     ]
    },
    {
     "name": "stdout",
     "output_type": "stream",
     "text": [
      "Closing dataloader mosaic\n",
      "\u001b[34m\u001b[1malbumentations: \u001b[0mBlur(p=0.01, blur_limit=(3, 7)), MedianBlur(p=0.01, blur_limit=(3, 7)), ToGray(p=0.01, num_output_channels=3, method='weighted_average'), CLAHE(p=0.01, clip_limit=(1.0, 4.0), tile_grid_size=(8, 8))\n",
      "\n",
      "      Epoch    GPU_mem   box_loss   cls_loss   dfl_loss  Instances       Size\n"
     ]
    },
    {
     "name": "stderr",
     "output_type": "stream",
     "text": [
      "      41/50      2.29G     0.3726     0.3008     0.8108         36        640: 100%|██████████| 88/88 [00:26<00:00,  3.33it/s]\n",
      "                 Class     Images  Instances      Box(P          R      mAP50  mAP50-95): 100%|██████████| 13/13 [00:05<00:00,  2.59it/s]"
     ]
    },
    {
     "name": "stdout",
     "output_type": "stream",
     "text": [
      "                   all        398       3022      0.994      0.985      0.994      0.948\n"
     ]
    },
    {
     "name": "stderr",
     "output_type": "stream",
     "text": [
      "\n"
     ]
    },
    {
     "name": "stdout",
     "output_type": "stream",
     "text": [
      "\n",
      "      Epoch    GPU_mem   box_loss   cls_loss   dfl_loss  Instances       Size\n"
     ]
    },
    {
     "name": "stderr",
     "output_type": "stream",
     "text": [
      "      42/50      2.27G     0.3722      0.299     0.8134         26        640: 100%|██████████| 88/88 [00:22<00:00,  3.87it/s]\n",
      "                 Class     Images  Instances      Box(P          R      mAP50  mAP50-95): 100%|██████████| 13/13 [00:04<00:00,  2.65it/s]"
     ]
    },
    {
     "name": "stdout",
     "output_type": "stream",
     "text": [
      "                   all        398       3022      0.993      0.987      0.994      0.947\n"
     ]
    },
    {
     "name": "stderr",
     "output_type": "stream",
     "text": [
      "\n"
     ]
    },
    {
     "name": "stdout",
     "output_type": "stream",
     "text": [
      "\n",
      "      Epoch    GPU_mem   box_loss   cls_loss   dfl_loss  Instances       Size\n"
     ]
    },
    {
     "name": "stderr",
     "output_type": "stream",
     "text": [
      "      43/50      2.27G     0.3663     0.2945     0.8112         27        640: 100%|██████████| 88/88 [00:23<00:00,  3.67it/s]\n",
      "                 Class     Images  Instances      Box(P          R      mAP50  mAP50-95): 100%|██████████| 13/13 [00:05<00:00,  2.36it/s]"
     ]
    },
    {
     "name": "stdout",
     "output_type": "stream",
     "text": [
      "                   all        398       3022      0.996      0.987      0.994      0.948\n"
     ]
    },
    {
     "name": "stderr",
     "output_type": "stream",
     "text": [
      "\n"
     ]
    },
    {
     "name": "stdout",
     "output_type": "stream",
     "text": [
      "\n",
      "      Epoch    GPU_mem   box_loss   cls_loss   dfl_loss  Instances       Size\n"
     ]
    },
    {
     "name": "stderr",
     "output_type": "stream",
     "text": [
      "      44/50      2.27G     0.3653     0.2887      0.814         36        640: 100%|██████████| 88/88 [00:22<00:00,  3.89it/s]\n",
      "                 Class     Images  Instances      Box(P          R      mAP50  mAP50-95): 100%|██████████| 13/13 [00:04<00:00,  2.71it/s]"
     ]
    },
    {
     "name": "stdout",
     "output_type": "stream",
     "text": [
      "                   all        398       3022      0.994      0.989      0.994      0.949\n"
     ]
    },
    {
     "name": "stderr",
     "output_type": "stream",
     "text": [
      "\n"
     ]
    },
    {
     "name": "stdout",
     "output_type": "stream",
     "text": [
      "\n",
      "      Epoch    GPU_mem   box_loss   cls_loss   dfl_loss  Instances       Size\n"
     ]
    },
    {
     "name": "stderr",
     "output_type": "stream",
     "text": [
      "      45/50      2.27G     0.3664     0.2873     0.8139         42        640: 100%|██████████| 88/88 [00:22<00:00,  3.87it/s]\n",
      "                 Class     Images  Instances      Box(P          R      mAP50  mAP50-95): 100%|██████████| 13/13 [00:04<00:00,  2.65it/s]"
     ]
    },
    {
     "name": "stdout",
     "output_type": "stream",
     "text": [
      "                   all        398       3022      0.996      0.986      0.994      0.949\n"
     ]
    },
    {
     "name": "stderr",
     "output_type": "stream",
     "text": [
      "\n"
     ]
    },
    {
     "name": "stdout",
     "output_type": "stream",
     "text": [
      "\n",
      "      Epoch    GPU_mem   box_loss   cls_loss   dfl_loss  Instances       Size\n"
     ]
    },
    {
     "name": "stderr",
     "output_type": "stream",
     "text": [
      "      46/50      2.27G      0.359     0.2797     0.8091         32        640: 100%|██████████| 88/88 [00:22<00:00,  3.86it/s]\n",
      "                 Class     Images  Instances      Box(P          R      mAP50  mAP50-95): 100%|██████████| 13/13 [00:04<00:00,  2.70it/s]\n"
     ]
    },
    {
     "name": "stdout",
     "output_type": "stream",
     "text": [
      "                   all        398       3022      0.997      0.988      0.994       0.95\n",
      "\n",
      "      Epoch    GPU_mem   box_loss   cls_loss   dfl_loss  Instances       Size\n"
     ]
    },
    {
     "name": "stderr",
     "output_type": "stream",
     "text": [
      "      47/50      2.27G     0.3571     0.2763     0.8099         47        640: 100%|██████████| 88/88 [00:23<00:00,  3.77it/s]\n",
      "                 Class     Images  Instances      Box(P          R      mAP50  mAP50-95): 100%|██████████| 13/13 [00:04<00:00,  2.94it/s]"
     ]
    },
    {
     "name": "stdout",
     "output_type": "stream",
     "text": [
      "                   all        398       3022      0.996      0.989      0.994      0.949\n"
     ]
    },
    {
     "name": "stderr",
     "output_type": "stream",
     "text": [
      "\n"
     ]
    },
    {
     "name": "stdout",
     "output_type": "stream",
     "text": [
      "\n",
      "      Epoch    GPU_mem   box_loss   cls_loss   dfl_loss  Instances       Size\n"
     ]
    },
    {
     "name": "stderr",
     "output_type": "stream",
     "text": [
      "      48/50      2.27G     0.3552     0.2727       0.81         43        640: 100%|██████████| 88/88 [00:23<00:00,  3.78it/s]\n",
      "                 Class     Images  Instances      Box(P          R      mAP50  mAP50-95): 100%|██████████| 13/13 [00:04<00:00,  2.99it/s]\n"
     ]
    },
    {
     "name": "stdout",
     "output_type": "stream",
     "text": [
      "                   all        398       3022      0.997      0.989      0.995       0.95\n",
      "\n",
      "      Epoch    GPU_mem   box_loss   cls_loss   dfl_loss  Instances       Size\n"
     ]
    },
    {
     "name": "stderr",
     "output_type": "stream",
     "text": [
      "      49/50      2.27G     0.3535     0.2681     0.8077         40        640: 100%|██████████| 88/88 [00:22<00:00,  3.89it/s]\n",
      "                 Class     Images  Instances      Box(P          R      mAP50  mAP50-95): 100%|██████████| 13/13 [00:04<00:00,  2.77it/s]\n"
     ]
    },
    {
     "name": "stdout",
     "output_type": "stream",
     "text": [
      "                   all        398       3022      0.996      0.989      0.994      0.952\n",
      "\n",
      "      Epoch    GPU_mem   box_loss   cls_loss   dfl_loss  Instances       Size\n"
     ]
    },
    {
     "name": "stderr",
     "output_type": "stream",
     "text": [
      "      50/50      2.27G     0.3555     0.2685     0.8111         41        640: 100%|██████████| 88/88 [00:22<00:00,  3.84it/s]\n",
      "                 Class     Images  Instances      Box(P          R      mAP50  mAP50-95): 100%|██████████| 13/13 [00:04<00:00,  2.80it/s]\n"
     ]
    },
    {
     "name": "stdout",
     "output_type": "stream",
     "text": [
      "                   all        398       3022      0.996      0.987      0.994      0.952\n",
      "\n",
      "50 epochs completed in 0.418 hours.\n",
      "Optimizer stripped from runs/detect/train2/weights/last.pt, 6.3MB\n",
      "Optimizer stripped from runs/detect/train2/weights/best.pt, 6.3MB\n",
      "\n",
      "Validating runs/detect/train2/weights/best.pt...\n",
      "Ultralytics 8.3.74 🚀 Python-3.11.11 torch-2.5.1+cu124 CUDA:0 (Tesla T4, 15095MiB)\n",
      "Model summary (fused): 168 layers, 3,008,183 parameters, 0 gradients, 8.1 GFLOPs\n"
     ]
    },
    {
     "name": "stderr",
     "output_type": "stream",
     "text": [
      "                 Class     Images  Instances      Box(P          R      mAP50  mAP50-95): 100%|██████████| 13/13 [00:06<00:00,  2.00it/s]\n"
     ]
    },
    {
     "name": "stdout",
     "output_type": "stream",
     "text": [
      "                   all        398       3022      0.996      0.989      0.994      0.952\n",
      "                circle        176        242      0.995      0.996      0.995      0.973\n",
      "                 cross        160        232      0.997      0.987      0.995      0.983\n",
      "              heptagon        177        253      0.996      0.991      0.991      0.958\n",
      "               hexagon        172        242      0.998      0.988      0.995      0.945\n",
      "               octagon        184        256      0.996      0.991      0.995      0.964\n",
      "              pentagon        178        246      0.998      0.976      0.994      0.928\n",
      "        quarter_circle        155        211      0.998      0.981      0.995       0.97\n",
      "             rectangle        172        236      0.996      0.983      0.995      0.982\n",
      "            semicircle        179        238      0.999          1      0.995      0.954\n",
      "                square        157        210      0.978       0.99      0.991      0.987\n",
      "                  star        161        221          1      0.989      0.995      0.875\n",
      "             trapezoid        168        230      0.995      0.991      0.995      0.961\n",
      "              triangle        149        205          1      0.998      0.995      0.903\n",
      "Speed: 0.3ms preprocess, 2.7ms inference, 0.0ms loss, 3.0ms postprocess per image\n",
      "Results saved to \u001b[1mruns/detect/train2\u001b[0m\n"
     ]
    },
    {
     "data": {
      "text/plain": [
       "ultralytics.utils.metrics.DetMetrics object with attributes:\n",
       "\n",
       "ap_class_index: array([ 0,  1,  2,  3,  4,  5,  6,  7,  8,  9, 10, 11, 12])\n",
       "box: ultralytics.utils.metrics.Metric object\n",
       "confusion_matrix: <ultralytics.utils.metrics.ConfusionMatrix object at 0x7fd424f75190>\n",
       "curves: ['Precision-Recall(B)', 'F1-Confidence(B)', 'Precision-Confidence(B)', 'Recall-Confidence(B)']\n",
       "curves_results: [[array([          0,    0.001001,    0.002002,    0.003003,    0.004004,    0.005005,    0.006006,    0.007007,    0.008008,    0.009009,     0.01001,    0.011011,    0.012012,    0.013013,    0.014014,    0.015015,    0.016016,    0.017017,    0.018018,    0.019019,     0.02002,    0.021021,    0.022022,    0.023023,\n",
       "          0.024024,    0.025025,    0.026026,    0.027027,    0.028028,    0.029029,     0.03003,    0.031031,    0.032032,    0.033033,    0.034034,    0.035035,    0.036036,    0.037037,    0.038038,    0.039039,     0.04004,    0.041041,    0.042042,    0.043043,    0.044044,    0.045045,    0.046046,    0.047047,\n",
       "          0.048048,    0.049049,     0.05005,    0.051051,    0.052052,    0.053053,    0.054054,    0.055055,    0.056056,    0.057057,    0.058058,    0.059059,     0.06006,    0.061061,    0.062062,    0.063063,    0.064064,    0.065065,    0.066066,    0.067067,    0.068068,    0.069069,     0.07007,    0.071071,\n",
       "          0.072072,    0.073073,    0.074074,    0.075075,    0.076076,    0.077077,    0.078078,    0.079079,     0.08008,    0.081081,    0.082082,    0.083083,    0.084084,    0.085085,    0.086086,    0.087087,    0.088088,    0.089089,     0.09009,    0.091091,    0.092092,    0.093093,    0.094094,    0.095095,\n",
       "          0.096096,    0.097097,    0.098098,    0.099099,      0.1001,      0.1011,      0.1021,      0.1031,      0.1041,     0.10511,     0.10611,     0.10711,     0.10811,     0.10911,     0.11011,     0.11111,     0.11211,     0.11311,     0.11411,     0.11512,     0.11612,     0.11712,     0.11812,     0.11912,\n",
       "           0.12012,     0.12112,     0.12212,     0.12312,     0.12412,     0.12513,     0.12613,     0.12713,     0.12813,     0.12913,     0.13013,     0.13113,     0.13213,     0.13313,     0.13413,     0.13514,     0.13614,     0.13714,     0.13814,     0.13914,     0.14014,     0.14114,     0.14214,     0.14314,\n",
       "           0.14414,     0.14515,     0.14615,     0.14715,     0.14815,     0.14915,     0.15015,     0.15115,     0.15215,     0.15315,     0.15415,     0.15516,     0.15616,     0.15716,     0.15816,     0.15916,     0.16016,     0.16116,     0.16216,     0.16316,     0.16416,     0.16517,     0.16617,     0.16717,\n",
       "           0.16817,     0.16917,     0.17017,     0.17117,     0.17217,     0.17317,     0.17417,     0.17518,     0.17618,     0.17718,     0.17818,     0.17918,     0.18018,     0.18118,     0.18218,     0.18318,     0.18418,     0.18519,     0.18619,     0.18719,     0.18819,     0.18919,     0.19019,     0.19119,\n",
       "           0.19219,     0.19319,     0.19419,      0.1952,      0.1962,      0.1972,      0.1982,      0.1992,      0.2002,      0.2012,      0.2022,      0.2032,      0.2042,     0.20521,     0.20621,     0.20721,     0.20821,     0.20921,     0.21021,     0.21121,     0.21221,     0.21321,     0.21421,     0.21522,\n",
       "           0.21622,     0.21722,     0.21822,     0.21922,     0.22022,     0.22122,     0.22222,     0.22322,     0.22422,     0.22523,     0.22623,     0.22723,     0.22823,     0.22923,     0.23023,     0.23123,     0.23223,     0.23323,     0.23423,     0.23524,     0.23624,     0.23724,     0.23824,     0.23924,\n",
       "           0.24024,     0.24124,     0.24224,     0.24324,     0.24424,     0.24525,     0.24625,     0.24725,     0.24825,     0.24925,     0.25025,     0.25125,     0.25225,     0.25325,     0.25425,     0.25526,     0.25626,     0.25726,     0.25826,     0.25926,     0.26026,     0.26126,     0.26226,     0.26326,\n",
       "           0.26426,     0.26527,     0.26627,     0.26727,     0.26827,     0.26927,     0.27027,     0.27127,     0.27227,     0.27327,     0.27427,     0.27528,     0.27628,     0.27728,     0.27828,     0.27928,     0.28028,     0.28128,     0.28228,     0.28328,     0.28428,     0.28529,     0.28629,     0.28729,\n",
       "           0.28829,     0.28929,     0.29029,     0.29129,     0.29229,     0.29329,     0.29429,      0.2953,      0.2963,      0.2973,      0.2983,      0.2993,      0.3003,      0.3013,      0.3023,      0.3033,      0.3043,     0.30531,     0.30631,     0.30731,     0.30831,     0.30931,     0.31031,     0.31131,\n",
       "           0.31231,     0.31331,     0.31431,     0.31532,     0.31632,     0.31732,     0.31832,     0.31932,     0.32032,     0.32132,     0.32232,     0.32332,     0.32432,     0.32533,     0.32633,     0.32733,     0.32833,     0.32933,     0.33033,     0.33133,     0.33233,     0.33333,     0.33433,     0.33534,\n",
       "           0.33634,     0.33734,     0.33834,     0.33934,     0.34034,     0.34134,     0.34234,     0.34334,     0.34434,     0.34535,     0.34635,     0.34735,     0.34835,     0.34935,     0.35035,     0.35135,     0.35235,     0.35335,     0.35435,     0.35536,     0.35636,     0.35736,     0.35836,     0.35936,\n",
       "           0.36036,     0.36136,     0.36236,     0.36336,     0.36436,     0.36537,     0.36637,     0.36737,     0.36837,     0.36937,     0.37037,     0.37137,     0.37237,     0.37337,     0.37437,     0.37538,     0.37638,     0.37738,     0.37838,     0.37938,     0.38038,     0.38138,     0.38238,     0.38338,\n",
       "           0.38438,     0.38539,     0.38639,     0.38739,     0.38839,     0.38939,     0.39039,     0.39139,     0.39239,     0.39339,     0.39439,      0.3954,      0.3964,      0.3974,      0.3984,      0.3994,      0.4004,      0.4014,      0.4024,      0.4034,      0.4044,     0.40541,     0.40641,     0.40741,\n",
       "           0.40841,     0.40941,     0.41041,     0.41141,     0.41241,     0.41341,     0.41441,     0.41542,     0.41642,     0.41742,     0.41842,     0.41942,     0.42042,     0.42142,     0.42242,     0.42342,     0.42442,     0.42543,     0.42643,     0.42743,     0.42843,     0.42943,     0.43043,     0.43143,\n",
       "           0.43243,     0.43343,     0.43443,     0.43544,     0.43644,     0.43744,     0.43844,     0.43944,     0.44044,     0.44144,     0.44244,     0.44344,     0.44444,     0.44545,     0.44645,     0.44745,     0.44845,     0.44945,     0.45045,     0.45145,     0.45245,     0.45345,     0.45445,     0.45546,\n",
       "           0.45646,     0.45746,     0.45846,     0.45946,     0.46046,     0.46146,     0.46246,     0.46346,     0.46446,     0.46547,     0.46647,     0.46747,     0.46847,     0.46947,     0.47047,     0.47147,     0.47247,     0.47347,     0.47447,     0.47548,     0.47648,     0.47748,     0.47848,     0.47948,\n",
       "           0.48048,     0.48148,     0.48248,     0.48348,     0.48448,     0.48549,     0.48649,     0.48749,     0.48849,     0.48949,     0.49049,     0.49149,     0.49249,     0.49349,     0.49449,      0.4955,      0.4965,      0.4975,      0.4985,      0.4995,      0.5005,      0.5015,      0.5025,      0.5035,\n",
       "            0.5045,     0.50551,     0.50651,     0.50751,     0.50851,     0.50951,     0.51051,     0.51151,     0.51251,     0.51351,     0.51451,     0.51552,     0.51652,     0.51752,     0.51852,     0.51952,     0.52052,     0.52152,     0.52252,     0.52352,     0.52452,     0.52553,     0.52653,     0.52753,\n",
       "           0.52853,     0.52953,     0.53053,     0.53153,     0.53253,     0.53353,     0.53453,     0.53554,     0.53654,     0.53754,     0.53854,     0.53954,     0.54054,     0.54154,     0.54254,     0.54354,     0.54454,     0.54555,     0.54655,     0.54755,     0.54855,     0.54955,     0.55055,     0.55155,\n",
       "           0.55255,     0.55355,     0.55455,     0.55556,     0.55656,     0.55756,     0.55856,     0.55956,     0.56056,     0.56156,     0.56256,     0.56356,     0.56456,     0.56557,     0.56657,     0.56757,     0.56857,     0.56957,     0.57057,     0.57157,     0.57257,     0.57357,     0.57457,     0.57558,\n",
       "           0.57658,     0.57758,     0.57858,     0.57958,     0.58058,     0.58158,     0.58258,     0.58358,     0.58458,     0.58559,     0.58659,     0.58759,     0.58859,     0.58959,     0.59059,     0.59159,     0.59259,     0.59359,     0.59459,      0.5956,      0.5966,      0.5976,      0.5986,      0.5996,\n",
       "            0.6006,      0.6016,      0.6026,      0.6036,      0.6046,     0.60561,     0.60661,     0.60761,     0.60861,     0.60961,     0.61061,     0.61161,     0.61261,     0.61361,     0.61461,     0.61562,     0.61662,     0.61762,     0.61862,     0.61962,     0.62062,     0.62162,     0.62262,     0.62362,\n",
       "           0.62462,     0.62563,     0.62663,     0.62763,     0.62863,     0.62963,     0.63063,     0.63163,     0.63263,     0.63363,     0.63463,     0.63564,     0.63664,     0.63764,     0.63864,     0.63964,     0.64064,     0.64164,     0.64264,     0.64364,     0.64464,     0.64565,     0.64665,     0.64765,\n",
       "           0.64865,     0.64965,     0.65065,     0.65165,     0.65265,     0.65365,     0.65465,     0.65566,     0.65666,     0.65766,     0.65866,     0.65966,     0.66066,     0.66166,     0.66266,     0.66366,     0.66466,     0.66567,     0.66667,     0.66767,     0.66867,     0.66967,     0.67067,     0.67167,\n",
       "           0.67267,     0.67367,     0.67467,     0.67568,     0.67668,     0.67768,     0.67868,     0.67968,     0.68068,     0.68168,     0.68268,     0.68368,     0.68468,     0.68569,     0.68669,     0.68769,     0.68869,     0.68969,     0.69069,     0.69169,     0.69269,     0.69369,     0.69469,      0.6957,\n",
       "            0.6967,      0.6977,      0.6987,      0.6997,      0.7007,      0.7017,      0.7027,      0.7037,      0.7047,     0.70571,     0.70671,     0.70771,     0.70871,     0.70971,     0.71071,     0.71171,     0.71271,     0.71371,     0.71471,     0.71572,     0.71672,     0.71772,     0.71872,     0.71972,\n",
       "           0.72072,     0.72172,     0.72272,     0.72372,     0.72472,     0.72573,     0.72673,     0.72773,     0.72873,     0.72973,     0.73073,     0.73173,     0.73273,     0.73373,     0.73473,     0.73574,     0.73674,     0.73774,     0.73874,     0.73974,     0.74074,     0.74174,     0.74274,     0.74374,\n",
       "           0.74474,     0.74575,     0.74675,     0.74775,     0.74875,     0.74975,     0.75075,     0.75175,     0.75275,     0.75375,     0.75475,     0.75576,     0.75676,     0.75776,     0.75876,     0.75976,     0.76076,     0.76176,     0.76276,     0.76376,     0.76476,     0.76577,     0.76677,     0.76777,\n",
       "           0.76877,     0.76977,     0.77077,     0.77177,     0.77277,     0.77377,     0.77477,     0.77578,     0.77678,     0.77778,     0.77878,     0.77978,     0.78078,     0.78178,     0.78278,     0.78378,     0.78478,     0.78579,     0.78679,     0.78779,     0.78879,     0.78979,     0.79079,     0.79179,\n",
       "           0.79279,     0.79379,     0.79479,      0.7958,      0.7968,      0.7978,      0.7988,      0.7998,      0.8008,      0.8018,      0.8028,      0.8038,      0.8048,     0.80581,     0.80681,     0.80781,     0.80881,     0.80981,     0.81081,     0.81181,     0.81281,     0.81381,     0.81481,     0.81582,\n",
       "           0.81682,     0.81782,     0.81882,     0.81982,     0.82082,     0.82182,     0.82282,     0.82382,     0.82482,     0.82583,     0.82683,     0.82783,     0.82883,     0.82983,     0.83083,     0.83183,     0.83283,     0.83383,     0.83483,     0.83584,     0.83684,     0.83784,     0.83884,     0.83984,\n",
       "           0.84084,     0.84184,     0.84284,     0.84384,     0.84484,     0.84585,     0.84685,     0.84785,     0.84885,     0.84985,     0.85085,     0.85185,     0.85285,     0.85385,     0.85485,     0.85586,     0.85686,     0.85786,     0.85886,     0.85986,     0.86086,     0.86186,     0.86286,     0.86386,\n",
       "           0.86486,     0.86587,     0.86687,     0.86787,     0.86887,     0.86987,     0.87087,     0.87187,     0.87287,     0.87387,     0.87487,     0.87588,     0.87688,     0.87788,     0.87888,     0.87988,     0.88088,     0.88188,     0.88288,     0.88388,     0.88488,     0.88589,     0.88689,     0.88789,\n",
       "           0.88889,     0.88989,     0.89089,     0.89189,     0.89289,     0.89389,     0.89489,      0.8959,      0.8969,      0.8979,      0.8989,      0.8999,      0.9009,      0.9019,      0.9029,      0.9039,      0.9049,     0.90591,     0.90691,     0.90791,     0.90891,     0.90991,     0.91091,     0.91191,\n",
       "           0.91291,     0.91391,     0.91491,     0.91592,     0.91692,     0.91792,     0.91892,     0.91992,     0.92092,     0.92192,     0.92292,     0.92392,     0.92492,     0.92593,     0.92693,     0.92793,     0.92893,     0.92993,     0.93093,     0.93193,     0.93293,     0.93393,     0.93493,     0.93594,\n",
       "           0.93694,     0.93794,     0.93894,     0.93994,     0.94094,     0.94194,     0.94294,     0.94394,     0.94494,     0.94595,     0.94695,     0.94795,     0.94895,     0.94995,     0.95095,     0.95195,     0.95295,     0.95395,     0.95495,     0.95596,     0.95696,     0.95796,     0.95896,     0.95996,\n",
       "           0.96096,     0.96196,     0.96296,     0.96396,     0.96496,     0.96597,     0.96697,     0.96797,     0.96897,     0.96997,     0.97097,     0.97197,     0.97297,     0.97397,     0.97497,     0.97598,     0.97698,     0.97798,     0.97898,     0.97998,     0.98098,     0.98198,     0.98298,     0.98398,\n",
       "           0.98498,     0.98599,     0.98699,     0.98799,     0.98899,     0.98999,     0.99099,     0.99199,     0.99299,     0.99399,     0.99499,       0.996,       0.997,       0.998,       0.999,           1]), array([[          1,           1,           1, ...,     0.90977,     0.90977,           0],\n",
       "       [          1,           1,           1, ...,     0.92063,     0.92063,           0],\n",
       "       [          1,           1,           1, ...,     0.91667,     0.91667,           0],\n",
       "       ...,\n",
       "       [          1,           1,           1, ...,     0.93644,     0.93644,           0],\n",
       "       [          1,           1,           1, ...,     0.90196,     0.90196,           0],\n",
       "       [          1,           1,           1, ...,           1,           1,           0]]), 'Recall', 'Precision'], [array([          0,    0.001001,    0.002002,    0.003003,    0.004004,    0.005005,    0.006006,    0.007007,    0.008008,    0.009009,     0.01001,    0.011011,    0.012012,    0.013013,    0.014014,    0.015015,    0.016016,    0.017017,    0.018018,    0.019019,     0.02002,    0.021021,    0.022022,    0.023023,\n",
       "          0.024024,    0.025025,    0.026026,    0.027027,    0.028028,    0.029029,     0.03003,    0.031031,    0.032032,    0.033033,    0.034034,    0.035035,    0.036036,    0.037037,    0.038038,    0.039039,     0.04004,    0.041041,    0.042042,    0.043043,    0.044044,    0.045045,    0.046046,    0.047047,\n",
       "          0.048048,    0.049049,     0.05005,    0.051051,    0.052052,    0.053053,    0.054054,    0.055055,    0.056056,    0.057057,    0.058058,    0.059059,     0.06006,    0.061061,    0.062062,    0.063063,    0.064064,    0.065065,    0.066066,    0.067067,    0.068068,    0.069069,     0.07007,    0.071071,\n",
       "          0.072072,    0.073073,    0.074074,    0.075075,    0.076076,    0.077077,    0.078078,    0.079079,     0.08008,    0.081081,    0.082082,    0.083083,    0.084084,    0.085085,    0.086086,    0.087087,    0.088088,    0.089089,     0.09009,    0.091091,    0.092092,    0.093093,    0.094094,    0.095095,\n",
       "          0.096096,    0.097097,    0.098098,    0.099099,      0.1001,      0.1011,      0.1021,      0.1031,      0.1041,     0.10511,     0.10611,     0.10711,     0.10811,     0.10911,     0.11011,     0.11111,     0.11211,     0.11311,     0.11411,     0.11512,     0.11612,     0.11712,     0.11812,     0.11912,\n",
       "           0.12012,     0.12112,     0.12212,     0.12312,     0.12412,     0.12513,     0.12613,     0.12713,     0.12813,     0.12913,     0.13013,     0.13113,     0.13213,     0.13313,     0.13413,     0.13514,     0.13614,     0.13714,     0.13814,     0.13914,     0.14014,     0.14114,     0.14214,     0.14314,\n",
       "           0.14414,     0.14515,     0.14615,     0.14715,     0.14815,     0.14915,     0.15015,     0.15115,     0.15215,     0.15315,     0.15415,     0.15516,     0.15616,     0.15716,     0.15816,     0.15916,     0.16016,     0.16116,     0.16216,     0.16316,     0.16416,     0.16517,     0.16617,     0.16717,\n",
       "           0.16817,     0.16917,     0.17017,     0.17117,     0.17217,     0.17317,     0.17417,     0.17518,     0.17618,     0.17718,     0.17818,     0.17918,     0.18018,     0.18118,     0.18218,     0.18318,     0.18418,     0.18519,     0.18619,     0.18719,     0.18819,     0.18919,     0.19019,     0.19119,\n",
       "           0.19219,     0.19319,     0.19419,      0.1952,      0.1962,      0.1972,      0.1982,      0.1992,      0.2002,      0.2012,      0.2022,      0.2032,      0.2042,     0.20521,     0.20621,     0.20721,     0.20821,     0.20921,     0.21021,     0.21121,     0.21221,     0.21321,     0.21421,     0.21522,\n",
       "           0.21622,     0.21722,     0.21822,     0.21922,     0.22022,     0.22122,     0.22222,     0.22322,     0.22422,     0.22523,     0.22623,     0.22723,     0.22823,     0.22923,     0.23023,     0.23123,     0.23223,     0.23323,     0.23423,     0.23524,     0.23624,     0.23724,     0.23824,     0.23924,\n",
       "           0.24024,     0.24124,     0.24224,     0.24324,     0.24424,     0.24525,     0.24625,     0.24725,     0.24825,     0.24925,     0.25025,     0.25125,     0.25225,     0.25325,     0.25425,     0.25526,     0.25626,     0.25726,     0.25826,     0.25926,     0.26026,     0.26126,     0.26226,     0.26326,\n",
       "           0.26426,     0.26527,     0.26627,     0.26727,     0.26827,     0.26927,     0.27027,     0.27127,     0.27227,     0.27327,     0.27427,     0.27528,     0.27628,     0.27728,     0.27828,     0.27928,     0.28028,     0.28128,     0.28228,     0.28328,     0.28428,     0.28529,     0.28629,     0.28729,\n",
       "           0.28829,     0.28929,     0.29029,     0.29129,     0.29229,     0.29329,     0.29429,      0.2953,      0.2963,      0.2973,      0.2983,      0.2993,      0.3003,      0.3013,      0.3023,      0.3033,      0.3043,     0.30531,     0.30631,     0.30731,     0.30831,     0.30931,     0.31031,     0.31131,\n",
       "           0.31231,     0.31331,     0.31431,     0.31532,     0.31632,     0.31732,     0.31832,     0.31932,     0.32032,     0.32132,     0.32232,     0.32332,     0.32432,     0.32533,     0.32633,     0.32733,     0.32833,     0.32933,     0.33033,     0.33133,     0.33233,     0.33333,     0.33433,     0.33534,\n",
       "           0.33634,     0.33734,     0.33834,     0.33934,     0.34034,     0.34134,     0.34234,     0.34334,     0.34434,     0.34535,     0.34635,     0.34735,     0.34835,     0.34935,     0.35035,     0.35135,     0.35235,     0.35335,     0.35435,     0.35536,     0.35636,     0.35736,     0.35836,     0.35936,\n",
       "           0.36036,     0.36136,     0.36236,     0.36336,     0.36436,     0.36537,     0.36637,     0.36737,     0.36837,     0.36937,     0.37037,     0.37137,     0.37237,     0.37337,     0.37437,     0.37538,     0.37638,     0.37738,     0.37838,     0.37938,     0.38038,     0.38138,     0.38238,     0.38338,\n",
       "           0.38438,     0.38539,     0.38639,     0.38739,     0.38839,     0.38939,     0.39039,     0.39139,     0.39239,     0.39339,     0.39439,      0.3954,      0.3964,      0.3974,      0.3984,      0.3994,      0.4004,      0.4014,      0.4024,      0.4034,      0.4044,     0.40541,     0.40641,     0.40741,\n",
       "           0.40841,     0.40941,     0.41041,     0.41141,     0.41241,     0.41341,     0.41441,     0.41542,     0.41642,     0.41742,     0.41842,     0.41942,     0.42042,     0.42142,     0.42242,     0.42342,     0.42442,     0.42543,     0.42643,     0.42743,     0.42843,     0.42943,     0.43043,     0.43143,\n",
       "           0.43243,     0.43343,     0.43443,     0.43544,     0.43644,     0.43744,     0.43844,     0.43944,     0.44044,     0.44144,     0.44244,     0.44344,     0.44444,     0.44545,     0.44645,     0.44745,     0.44845,     0.44945,     0.45045,     0.45145,     0.45245,     0.45345,     0.45445,     0.45546,\n",
       "           0.45646,     0.45746,     0.45846,     0.45946,     0.46046,     0.46146,     0.46246,     0.46346,     0.46446,     0.46547,     0.46647,     0.46747,     0.46847,     0.46947,     0.47047,     0.47147,     0.47247,     0.47347,     0.47447,     0.47548,     0.47648,     0.47748,     0.47848,     0.47948,\n",
       "           0.48048,     0.48148,     0.48248,     0.48348,     0.48448,     0.48549,     0.48649,     0.48749,     0.48849,     0.48949,     0.49049,     0.49149,     0.49249,     0.49349,     0.49449,      0.4955,      0.4965,      0.4975,      0.4985,      0.4995,      0.5005,      0.5015,      0.5025,      0.5035,\n",
       "            0.5045,     0.50551,     0.50651,     0.50751,     0.50851,     0.50951,     0.51051,     0.51151,     0.51251,     0.51351,     0.51451,     0.51552,     0.51652,     0.51752,     0.51852,     0.51952,     0.52052,     0.52152,     0.52252,     0.52352,     0.52452,     0.52553,     0.52653,     0.52753,\n",
       "           0.52853,     0.52953,     0.53053,     0.53153,     0.53253,     0.53353,     0.53453,     0.53554,     0.53654,     0.53754,     0.53854,     0.53954,     0.54054,     0.54154,     0.54254,     0.54354,     0.54454,     0.54555,     0.54655,     0.54755,     0.54855,     0.54955,     0.55055,     0.55155,\n",
       "           0.55255,     0.55355,     0.55455,     0.55556,     0.55656,     0.55756,     0.55856,     0.55956,     0.56056,     0.56156,     0.56256,     0.56356,     0.56456,     0.56557,     0.56657,     0.56757,     0.56857,     0.56957,     0.57057,     0.57157,     0.57257,     0.57357,     0.57457,     0.57558,\n",
       "           0.57658,     0.57758,     0.57858,     0.57958,     0.58058,     0.58158,     0.58258,     0.58358,     0.58458,     0.58559,     0.58659,     0.58759,     0.58859,     0.58959,     0.59059,     0.59159,     0.59259,     0.59359,     0.59459,      0.5956,      0.5966,      0.5976,      0.5986,      0.5996,\n",
       "            0.6006,      0.6016,      0.6026,      0.6036,      0.6046,     0.60561,     0.60661,     0.60761,     0.60861,     0.60961,     0.61061,     0.61161,     0.61261,     0.61361,     0.61461,     0.61562,     0.61662,     0.61762,     0.61862,     0.61962,     0.62062,     0.62162,     0.62262,     0.62362,\n",
       "           0.62462,     0.62563,     0.62663,     0.62763,     0.62863,     0.62963,     0.63063,     0.63163,     0.63263,     0.63363,     0.63463,     0.63564,     0.63664,     0.63764,     0.63864,     0.63964,     0.64064,     0.64164,     0.64264,     0.64364,     0.64464,     0.64565,     0.64665,     0.64765,\n",
       "           0.64865,     0.64965,     0.65065,     0.65165,     0.65265,     0.65365,     0.65465,     0.65566,     0.65666,     0.65766,     0.65866,     0.65966,     0.66066,     0.66166,     0.66266,     0.66366,     0.66466,     0.66567,     0.66667,     0.66767,     0.66867,     0.66967,     0.67067,     0.67167,\n",
       "           0.67267,     0.67367,     0.67467,     0.67568,     0.67668,     0.67768,     0.67868,     0.67968,     0.68068,     0.68168,     0.68268,     0.68368,     0.68468,     0.68569,     0.68669,     0.68769,     0.68869,     0.68969,     0.69069,     0.69169,     0.69269,     0.69369,     0.69469,      0.6957,\n",
       "            0.6967,      0.6977,      0.6987,      0.6997,      0.7007,      0.7017,      0.7027,      0.7037,      0.7047,     0.70571,     0.70671,     0.70771,     0.70871,     0.70971,     0.71071,     0.71171,     0.71271,     0.71371,     0.71471,     0.71572,     0.71672,     0.71772,     0.71872,     0.71972,\n",
       "           0.72072,     0.72172,     0.72272,     0.72372,     0.72472,     0.72573,     0.72673,     0.72773,     0.72873,     0.72973,     0.73073,     0.73173,     0.73273,     0.73373,     0.73473,     0.73574,     0.73674,     0.73774,     0.73874,     0.73974,     0.74074,     0.74174,     0.74274,     0.74374,\n",
       "           0.74474,     0.74575,     0.74675,     0.74775,     0.74875,     0.74975,     0.75075,     0.75175,     0.75275,     0.75375,     0.75475,     0.75576,     0.75676,     0.75776,     0.75876,     0.75976,     0.76076,     0.76176,     0.76276,     0.76376,     0.76476,     0.76577,     0.76677,     0.76777,\n",
       "           0.76877,     0.76977,     0.77077,     0.77177,     0.77277,     0.77377,     0.77477,     0.77578,     0.77678,     0.77778,     0.77878,     0.77978,     0.78078,     0.78178,     0.78278,     0.78378,     0.78478,     0.78579,     0.78679,     0.78779,     0.78879,     0.78979,     0.79079,     0.79179,\n",
       "           0.79279,     0.79379,     0.79479,      0.7958,      0.7968,      0.7978,      0.7988,      0.7998,      0.8008,      0.8018,      0.8028,      0.8038,      0.8048,     0.80581,     0.80681,     0.80781,     0.80881,     0.80981,     0.81081,     0.81181,     0.81281,     0.81381,     0.81481,     0.81582,\n",
       "           0.81682,     0.81782,     0.81882,     0.81982,     0.82082,     0.82182,     0.82282,     0.82382,     0.82482,     0.82583,     0.82683,     0.82783,     0.82883,     0.82983,     0.83083,     0.83183,     0.83283,     0.83383,     0.83483,     0.83584,     0.83684,     0.83784,     0.83884,     0.83984,\n",
       "           0.84084,     0.84184,     0.84284,     0.84384,     0.84484,     0.84585,     0.84685,     0.84785,     0.84885,     0.84985,     0.85085,     0.85185,     0.85285,     0.85385,     0.85485,     0.85586,     0.85686,     0.85786,     0.85886,     0.85986,     0.86086,     0.86186,     0.86286,     0.86386,\n",
       "           0.86486,     0.86587,     0.86687,     0.86787,     0.86887,     0.86987,     0.87087,     0.87187,     0.87287,     0.87387,     0.87487,     0.87588,     0.87688,     0.87788,     0.87888,     0.87988,     0.88088,     0.88188,     0.88288,     0.88388,     0.88488,     0.88589,     0.88689,     0.88789,\n",
       "           0.88889,     0.88989,     0.89089,     0.89189,     0.89289,     0.89389,     0.89489,      0.8959,      0.8969,      0.8979,      0.8989,      0.8999,      0.9009,      0.9019,      0.9029,      0.9039,      0.9049,     0.90591,     0.90691,     0.90791,     0.90891,     0.90991,     0.91091,     0.91191,\n",
       "           0.91291,     0.91391,     0.91491,     0.91592,     0.91692,     0.91792,     0.91892,     0.91992,     0.92092,     0.92192,     0.92292,     0.92392,     0.92492,     0.92593,     0.92693,     0.92793,     0.92893,     0.92993,     0.93093,     0.93193,     0.93293,     0.93393,     0.93493,     0.93594,\n",
       "           0.93694,     0.93794,     0.93894,     0.93994,     0.94094,     0.94194,     0.94294,     0.94394,     0.94494,     0.94595,     0.94695,     0.94795,     0.94895,     0.94995,     0.95095,     0.95195,     0.95295,     0.95395,     0.95495,     0.95596,     0.95696,     0.95796,     0.95896,     0.95996,\n",
       "           0.96096,     0.96196,     0.96296,     0.96396,     0.96496,     0.96597,     0.96697,     0.96797,     0.96897,     0.96997,     0.97097,     0.97197,     0.97297,     0.97397,     0.97497,     0.97598,     0.97698,     0.97798,     0.97898,     0.97998,     0.98098,     0.98198,     0.98298,     0.98398,\n",
       "           0.98498,     0.98599,     0.98699,     0.98799,     0.98899,     0.98999,     0.99099,     0.99199,     0.99299,     0.99399,     0.99499,       0.996,       0.997,       0.998,       0.999,           1]), array([[    0.67503,     0.67503,     0.91201, ...,           0,           0,           0],\n",
       "       [     0.6967,      0.6967,     0.81821, ...,           0,           0,           0],\n",
       "       [    0.69315,     0.69315,     0.85517, ...,           0,           0,           0],\n",
       "       ...,\n",
       "       [    0.67378,     0.67378,     0.81644, ...,           0,           0,           0],\n",
       "       [    0.42357,     0.42357,     0.59733, ...,           0,           0,           0],\n",
       "       [    0.58824,     0.58824,     0.80228, ...,           0,           0,           0]]), 'Confidence', 'F1'], [array([          0,    0.001001,    0.002002,    0.003003,    0.004004,    0.005005,    0.006006,    0.007007,    0.008008,    0.009009,     0.01001,    0.011011,    0.012012,    0.013013,    0.014014,    0.015015,    0.016016,    0.017017,    0.018018,    0.019019,     0.02002,    0.021021,    0.022022,    0.023023,\n",
       "          0.024024,    0.025025,    0.026026,    0.027027,    0.028028,    0.029029,     0.03003,    0.031031,    0.032032,    0.033033,    0.034034,    0.035035,    0.036036,    0.037037,    0.038038,    0.039039,     0.04004,    0.041041,    0.042042,    0.043043,    0.044044,    0.045045,    0.046046,    0.047047,\n",
       "          0.048048,    0.049049,     0.05005,    0.051051,    0.052052,    0.053053,    0.054054,    0.055055,    0.056056,    0.057057,    0.058058,    0.059059,     0.06006,    0.061061,    0.062062,    0.063063,    0.064064,    0.065065,    0.066066,    0.067067,    0.068068,    0.069069,     0.07007,    0.071071,\n",
       "          0.072072,    0.073073,    0.074074,    0.075075,    0.076076,    0.077077,    0.078078,    0.079079,     0.08008,    0.081081,    0.082082,    0.083083,    0.084084,    0.085085,    0.086086,    0.087087,    0.088088,    0.089089,     0.09009,    0.091091,    0.092092,    0.093093,    0.094094,    0.095095,\n",
       "          0.096096,    0.097097,    0.098098,    0.099099,      0.1001,      0.1011,      0.1021,      0.1031,      0.1041,     0.10511,     0.10611,     0.10711,     0.10811,     0.10911,     0.11011,     0.11111,     0.11211,     0.11311,     0.11411,     0.11512,     0.11612,     0.11712,     0.11812,     0.11912,\n",
       "           0.12012,     0.12112,     0.12212,     0.12312,     0.12412,     0.12513,     0.12613,     0.12713,     0.12813,     0.12913,     0.13013,     0.13113,     0.13213,     0.13313,     0.13413,     0.13514,     0.13614,     0.13714,     0.13814,     0.13914,     0.14014,     0.14114,     0.14214,     0.14314,\n",
       "           0.14414,     0.14515,     0.14615,     0.14715,     0.14815,     0.14915,     0.15015,     0.15115,     0.15215,     0.15315,     0.15415,     0.15516,     0.15616,     0.15716,     0.15816,     0.15916,     0.16016,     0.16116,     0.16216,     0.16316,     0.16416,     0.16517,     0.16617,     0.16717,\n",
       "           0.16817,     0.16917,     0.17017,     0.17117,     0.17217,     0.17317,     0.17417,     0.17518,     0.17618,     0.17718,     0.17818,     0.17918,     0.18018,     0.18118,     0.18218,     0.18318,     0.18418,     0.18519,     0.18619,     0.18719,     0.18819,     0.18919,     0.19019,     0.19119,\n",
       "           0.19219,     0.19319,     0.19419,      0.1952,      0.1962,      0.1972,      0.1982,      0.1992,      0.2002,      0.2012,      0.2022,      0.2032,      0.2042,     0.20521,     0.20621,     0.20721,     0.20821,     0.20921,     0.21021,     0.21121,     0.21221,     0.21321,     0.21421,     0.21522,\n",
       "           0.21622,     0.21722,     0.21822,     0.21922,     0.22022,     0.22122,     0.22222,     0.22322,     0.22422,     0.22523,     0.22623,     0.22723,     0.22823,     0.22923,     0.23023,     0.23123,     0.23223,     0.23323,     0.23423,     0.23524,     0.23624,     0.23724,     0.23824,     0.23924,\n",
       "           0.24024,     0.24124,     0.24224,     0.24324,     0.24424,     0.24525,     0.24625,     0.24725,     0.24825,     0.24925,     0.25025,     0.25125,     0.25225,     0.25325,     0.25425,     0.25526,     0.25626,     0.25726,     0.25826,     0.25926,     0.26026,     0.26126,     0.26226,     0.26326,\n",
       "           0.26426,     0.26527,     0.26627,     0.26727,     0.26827,     0.26927,     0.27027,     0.27127,     0.27227,     0.27327,     0.27427,     0.27528,     0.27628,     0.27728,     0.27828,     0.27928,     0.28028,     0.28128,     0.28228,     0.28328,     0.28428,     0.28529,     0.28629,     0.28729,\n",
       "           0.28829,     0.28929,     0.29029,     0.29129,     0.29229,     0.29329,     0.29429,      0.2953,      0.2963,      0.2973,      0.2983,      0.2993,      0.3003,      0.3013,      0.3023,      0.3033,      0.3043,     0.30531,     0.30631,     0.30731,     0.30831,     0.30931,     0.31031,     0.31131,\n",
       "           0.31231,     0.31331,     0.31431,     0.31532,     0.31632,     0.31732,     0.31832,     0.31932,     0.32032,     0.32132,     0.32232,     0.32332,     0.32432,     0.32533,     0.32633,     0.32733,     0.32833,     0.32933,     0.33033,     0.33133,     0.33233,     0.33333,     0.33433,     0.33534,\n",
       "           0.33634,     0.33734,     0.33834,     0.33934,     0.34034,     0.34134,     0.34234,     0.34334,     0.34434,     0.34535,     0.34635,     0.34735,     0.34835,     0.34935,     0.35035,     0.35135,     0.35235,     0.35335,     0.35435,     0.35536,     0.35636,     0.35736,     0.35836,     0.35936,\n",
       "           0.36036,     0.36136,     0.36236,     0.36336,     0.36436,     0.36537,     0.36637,     0.36737,     0.36837,     0.36937,     0.37037,     0.37137,     0.37237,     0.37337,     0.37437,     0.37538,     0.37638,     0.37738,     0.37838,     0.37938,     0.38038,     0.38138,     0.38238,     0.38338,\n",
       "           0.38438,     0.38539,     0.38639,     0.38739,     0.38839,     0.38939,     0.39039,     0.39139,     0.39239,     0.39339,     0.39439,      0.3954,      0.3964,      0.3974,      0.3984,      0.3994,      0.4004,      0.4014,      0.4024,      0.4034,      0.4044,     0.40541,     0.40641,     0.40741,\n",
       "           0.40841,     0.40941,     0.41041,     0.41141,     0.41241,     0.41341,     0.41441,     0.41542,     0.41642,     0.41742,     0.41842,     0.41942,     0.42042,     0.42142,     0.42242,     0.42342,     0.42442,     0.42543,     0.42643,     0.42743,     0.42843,     0.42943,     0.43043,     0.43143,\n",
       "           0.43243,     0.43343,     0.43443,     0.43544,     0.43644,     0.43744,     0.43844,     0.43944,     0.44044,     0.44144,     0.44244,     0.44344,     0.44444,     0.44545,     0.44645,     0.44745,     0.44845,     0.44945,     0.45045,     0.45145,     0.45245,     0.45345,     0.45445,     0.45546,\n",
       "           0.45646,     0.45746,     0.45846,     0.45946,     0.46046,     0.46146,     0.46246,     0.46346,     0.46446,     0.46547,     0.46647,     0.46747,     0.46847,     0.46947,     0.47047,     0.47147,     0.47247,     0.47347,     0.47447,     0.47548,     0.47648,     0.47748,     0.47848,     0.47948,\n",
       "           0.48048,     0.48148,     0.48248,     0.48348,     0.48448,     0.48549,     0.48649,     0.48749,     0.48849,     0.48949,     0.49049,     0.49149,     0.49249,     0.49349,     0.49449,      0.4955,      0.4965,      0.4975,      0.4985,      0.4995,      0.5005,      0.5015,      0.5025,      0.5035,\n",
       "            0.5045,     0.50551,     0.50651,     0.50751,     0.50851,     0.50951,     0.51051,     0.51151,     0.51251,     0.51351,     0.51451,     0.51552,     0.51652,     0.51752,     0.51852,     0.51952,     0.52052,     0.52152,     0.52252,     0.52352,     0.52452,     0.52553,     0.52653,     0.52753,\n",
       "           0.52853,     0.52953,     0.53053,     0.53153,     0.53253,     0.53353,     0.53453,     0.53554,     0.53654,     0.53754,     0.53854,     0.53954,     0.54054,     0.54154,     0.54254,     0.54354,     0.54454,     0.54555,     0.54655,     0.54755,     0.54855,     0.54955,     0.55055,     0.55155,\n",
       "           0.55255,     0.55355,     0.55455,     0.55556,     0.55656,     0.55756,     0.55856,     0.55956,     0.56056,     0.56156,     0.56256,     0.56356,     0.56456,     0.56557,     0.56657,     0.56757,     0.56857,     0.56957,     0.57057,     0.57157,     0.57257,     0.57357,     0.57457,     0.57558,\n",
       "           0.57658,     0.57758,     0.57858,     0.57958,     0.58058,     0.58158,     0.58258,     0.58358,     0.58458,     0.58559,     0.58659,     0.58759,     0.58859,     0.58959,     0.59059,     0.59159,     0.59259,     0.59359,     0.59459,      0.5956,      0.5966,      0.5976,      0.5986,      0.5996,\n",
       "            0.6006,      0.6016,      0.6026,      0.6036,      0.6046,     0.60561,     0.60661,     0.60761,     0.60861,     0.60961,     0.61061,     0.61161,     0.61261,     0.61361,     0.61461,     0.61562,     0.61662,     0.61762,     0.61862,     0.61962,     0.62062,     0.62162,     0.62262,     0.62362,\n",
       "           0.62462,     0.62563,     0.62663,     0.62763,     0.62863,     0.62963,     0.63063,     0.63163,     0.63263,     0.63363,     0.63463,     0.63564,     0.63664,     0.63764,     0.63864,     0.63964,     0.64064,     0.64164,     0.64264,     0.64364,     0.64464,     0.64565,     0.64665,     0.64765,\n",
       "           0.64865,     0.64965,     0.65065,     0.65165,     0.65265,     0.65365,     0.65465,     0.65566,     0.65666,     0.65766,     0.65866,     0.65966,     0.66066,     0.66166,     0.66266,     0.66366,     0.66466,     0.66567,     0.66667,     0.66767,     0.66867,     0.66967,     0.67067,     0.67167,\n",
       "           0.67267,     0.67367,     0.67467,     0.67568,     0.67668,     0.67768,     0.67868,     0.67968,     0.68068,     0.68168,     0.68268,     0.68368,     0.68468,     0.68569,     0.68669,     0.68769,     0.68869,     0.68969,     0.69069,     0.69169,     0.69269,     0.69369,     0.69469,      0.6957,\n",
       "            0.6967,      0.6977,      0.6987,      0.6997,      0.7007,      0.7017,      0.7027,      0.7037,      0.7047,     0.70571,     0.70671,     0.70771,     0.70871,     0.70971,     0.71071,     0.71171,     0.71271,     0.71371,     0.71471,     0.71572,     0.71672,     0.71772,     0.71872,     0.71972,\n",
       "           0.72072,     0.72172,     0.72272,     0.72372,     0.72472,     0.72573,     0.72673,     0.72773,     0.72873,     0.72973,     0.73073,     0.73173,     0.73273,     0.73373,     0.73473,     0.73574,     0.73674,     0.73774,     0.73874,     0.73974,     0.74074,     0.74174,     0.74274,     0.74374,\n",
       "           0.74474,     0.74575,     0.74675,     0.74775,     0.74875,     0.74975,     0.75075,     0.75175,     0.75275,     0.75375,     0.75475,     0.75576,     0.75676,     0.75776,     0.75876,     0.75976,     0.76076,     0.76176,     0.76276,     0.76376,     0.76476,     0.76577,     0.76677,     0.76777,\n",
       "           0.76877,     0.76977,     0.77077,     0.77177,     0.77277,     0.77377,     0.77477,     0.77578,     0.77678,     0.77778,     0.77878,     0.77978,     0.78078,     0.78178,     0.78278,     0.78378,     0.78478,     0.78579,     0.78679,     0.78779,     0.78879,     0.78979,     0.79079,     0.79179,\n",
       "           0.79279,     0.79379,     0.79479,      0.7958,      0.7968,      0.7978,      0.7988,      0.7998,      0.8008,      0.8018,      0.8028,      0.8038,      0.8048,     0.80581,     0.80681,     0.80781,     0.80881,     0.80981,     0.81081,     0.81181,     0.81281,     0.81381,     0.81481,     0.81582,\n",
       "           0.81682,     0.81782,     0.81882,     0.81982,     0.82082,     0.82182,     0.82282,     0.82382,     0.82482,     0.82583,     0.82683,     0.82783,     0.82883,     0.82983,     0.83083,     0.83183,     0.83283,     0.83383,     0.83483,     0.83584,     0.83684,     0.83784,     0.83884,     0.83984,\n",
       "           0.84084,     0.84184,     0.84284,     0.84384,     0.84484,     0.84585,     0.84685,     0.84785,     0.84885,     0.84985,     0.85085,     0.85185,     0.85285,     0.85385,     0.85485,     0.85586,     0.85686,     0.85786,     0.85886,     0.85986,     0.86086,     0.86186,     0.86286,     0.86386,\n",
       "           0.86486,     0.86587,     0.86687,     0.86787,     0.86887,     0.86987,     0.87087,     0.87187,     0.87287,     0.87387,     0.87487,     0.87588,     0.87688,     0.87788,     0.87888,     0.87988,     0.88088,     0.88188,     0.88288,     0.88388,     0.88488,     0.88589,     0.88689,     0.88789,\n",
       "           0.88889,     0.88989,     0.89089,     0.89189,     0.89289,     0.89389,     0.89489,      0.8959,      0.8969,      0.8979,      0.8989,      0.8999,      0.9009,      0.9019,      0.9029,      0.9039,      0.9049,     0.90591,     0.90691,     0.90791,     0.90891,     0.90991,     0.91091,     0.91191,\n",
       "           0.91291,     0.91391,     0.91491,     0.91592,     0.91692,     0.91792,     0.91892,     0.91992,     0.92092,     0.92192,     0.92292,     0.92392,     0.92492,     0.92593,     0.92693,     0.92793,     0.92893,     0.92993,     0.93093,     0.93193,     0.93293,     0.93393,     0.93493,     0.93594,\n",
       "           0.93694,     0.93794,     0.93894,     0.93994,     0.94094,     0.94194,     0.94294,     0.94394,     0.94494,     0.94595,     0.94695,     0.94795,     0.94895,     0.94995,     0.95095,     0.95195,     0.95295,     0.95395,     0.95495,     0.95596,     0.95696,     0.95796,     0.95896,     0.95996,\n",
       "           0.96096,     0.96196,     0.96296,     0.96396,     0.96496,     0.96597,     0.96697,     0.96797,     0.96897,     0.96997,     0.97097,     0.97197,     0.97297,     0.97397,     0.97497,     0.97598,     0.97698,     0.97798,     0.97898,     0.97998,     0.98098,     0.98198,     0.98298,     0.98398,\n",
       "           0.98498,     0.98599,     0.98699,     0.98799,     0.98899,     0.98999,     0.99099,     0.99199,     0.99299,     0.99399,     0.99499,       0.996,       0.997,       0.998,       0.999,           1]), array([[    0.50947,     0.50947,     0.83826, ...,           1,           1,           1],\n",
       "       [    0.53456,     0.53456,     0.69234, ...,           1,           1,           1],\n",
       "       [     0.5304,      0.5304,     0.74699, ...,           1,           1,           1],\n",
       "       ...,\n",
       "       [    0.50805,     0.50805,     0.68982, ...,           1,           1,           1],\n",
       "       [    0.26869,     0.26869,     0.42585, ...,           1,           1,           1],\n",
       "       [    0.41667,     0.41667,     0.66983, ...,           1,           1,           1]]), 'Confidence', 'Precision'], [array([          0,    0.001001,    0.002002,    0.003003,    0.004004,    0.005005,    0.006006,    0.007007,    0.008008,    0.009009,     0.01001,    0.011011,    0.012012,    0.013013,    0.014014,    0.015015,    0.016016,    0.017017,    0.018018,    0.019019,     0.02002,    0.021021,    0.022022,    0.023023,\n",
       "          0.024024,    0.025025,    0.026026,    0.027027,    0.028028,    0.029029,     0.03003,    0.031031,    0.032032,    0.033033,    0.034034,    0.035035,    0.036036,    0.037037,    0.038038,    0.039039,     0.04004,    0.041041,    0.042042,    0.043043,    0.044044,    0.045045,    0.046046,    0.047047,\n",
       "          0.048048,    0.049049,     0.05005,    0.051051,    0.052052,    0.053053,    0.054054,    0.055055,    0.056056,    0.057057,    0.058058,    0.059059,     0.06006,    0.061061,    0.062062,    0.063063,    0.064064,    0.065065,    0.066066,    0.067067,    0.068068,    0.069069,     0.07007,    0.071071,\n",
       "          0.072072,    0.073073,    0.074074,    0.075075,    0.076076,    0.077077,    0.078078,    0.079079,     0.08008,    0.081081,    0.082082,    0.083083,    0.084084,    0.085085,    0.086086,    0.087087,    0.088088,    0.089089,     0.09009,    0.091091,    0.092092,    0.093093,    0.094094,    0.095095,\n",
       "          0.096096,    0.097097,    0.098098,    0.099099,      0.1001,      0.1011,      0.1021,      0.1031,      0.1041,     0.10511,     0.10611,     0.10711,     0.10811,     0.10911,     0.11011,     0.11111,     0.11211,     0.11311,     0.11411,     0.11512,     0.11612,     0.11712,     0.11812,     0.11912,\n",
       "           0.12012,     0.12112,     0.12212,     0.12312,     0.12412,     0.12513,     0.12613,     0.12713,     0.12813,     0.12913,     0.13013,     0.13113,     0.13213,     0.13313,     0.13413,     0.13514,     0.13614,     0.13714,     0.13814,     0.13914,     0.14014,     0.14114,     0.14214,     0.14314,\n",
       "           0.14414,     0.14515,     0.14615,     0.14715,     0.14815,     0.14915,     0.15015,     0.15115,     0.15215,     0.15315,     0.15415,     0.15516,     0.15616,     0.15716,     0.15816,     0.15916,     0.16016,     0.16116,     0.16216,     0.16316,     0.16416,     0.16517,     0.16617,     0.16717,\n",
       "           0.16817,     0.16917,     0.17017,     0.17117,     0.17217,     0.17317,     0.17417,     0.17518,     0.17618,     0.17718,     0.17818,     0.17918,     0.18018,     0.18118,     0.18218,     0.18318,     0.18418,     0.18519,     0.18619,     0.18719,     0.18819,     0.18919,     0.19019,     0.19119,\n",
       "           0.19219,     0.19319,     0.19419,      0.1952,      0.1962,      0.1972,      0.1982,      0.1992,      0.2002,      0.2012,      0.2022,      0.2032,      0.2042,     0.20521,     0.20621,     0.20721,     0.20821,     0.20921,     0.21021,     0.21121,     0.21221,     0.21321,     0.21421,     0.21522,\n",
       "           0.21622,     0.21722,     0.21822,     0.21922,     0.22022,     0.22122,     0.22222,     0.22322,     0.22422,     0.22523,     0.22623,     0.22723,     0.22823,     0.22923,     0.23023,     0.23123,     0.23223,     0.23323,     0.23423,     0.23524,     0.23624,     0.23724,     0.23824,     0.23924,\n",
       "           0.24024,     0.24124,     0.24224,     0.24324,     0.24424,     0.24525,     0.24625,     0.24725,     0.24825,     0.24925,     0.25025,     0.25125,     0.25225,     0.25325,     0.25425,     0.25526,     0.25626,     0.25726,     0.25826,     0.25926,     0.26026,     0.26126,     0.26226,     0.26326,\n",
       "           0.26426,     0.26527,     0.26627,     0.26727,     0.26827,     0.26927,     0.27027,     0.27127,     0.27227,     0.27327,     0.27427,     0.27528,     0.27628,     0.27728,     0.27828,     0.27928,     0.28028,     0.28128,     0.28228,     0.28328,     0.28428,     0.28529,     0.28629,     0.28729,\n",
       "           0.28829,     0.28929,     0.29029,     0.29129,     0.29229,     0.29329,     0.29429,      0.2953,      0.2963,      0.2973,      0.2983,      0.2993,      0.3003,      0.3013,      0.3023,      0.3033,      0.3043,     0.30531,     0.30631,     0.30731,     0.30831,     0.30931,     0.31031,     0.31131,\n",
       "           0.31231,     0.31331,     0.31431,     0.31532,     0.31632,     0.31732,     0.31832,     0.31932,     0.32032,     0.32132,     0.32232,     0.32332,     0.32432,     0.32533,     0.32633,     0.32733,     0.32833,     0.32933,     0.33033,     0.33133,     0.33233,     0.33333,     0.33433,     0.33534,\n",
       "           0.33634,     0.33734,     0.33834,     0.33934,     0.34034,     0.34134,     0.34234,     0.34334,     0.34434,     0.34535,     0.34635,     0.34735,     0.34835,     0.34935,     0.35035,     0.35135,     0.35235,     0.35335,     0.35435,     0.35536,     0.35636,     0.35736,     0.35836,     0.35936,\n",
       "           0.36036,     0.36136,     0.36236,     0.36336,     0.36436,     0.36537,     0.36637,     0.36737,     0.36837,     0.36937,     0.37037,     0.37137,     0.37237,     0.37337,     0.37437,     0.37538,     0.37638,     0.37738,     0.37838,     0.37938,     0.38038,     0.38138,     0.38238,     0.38338,\n",
       "           0.38438,     0.38539,     0.38639,     0.38739,     0.38839,     0.38939,     0.39039,     0.39139,     0.39239,     0.39339,     0.39439,      0.3954,      0.3964,      0.3974,      0.3984,      0.3994,      0.4004,      0.4014,      0.4024,      0.4034,      0.4044,     0.40541,     0.40641,     0.40741,\n",
       "           0.40841,     0.40941,     0.41041,     0.41141,     0.41241,     0.41341,     0.41441,     0.41542,     0.41642,     0.41742,     0.41842,     0.41942,     0.42042,     0.42142,     0.42242,     0.42342,     0.42442,     0.42543,     0.42643,     0.42743,     0.42843,     0.42943,     0.43043,     0.43143,\n",
       "           0.43243,     0.43343,     0.43443,     0.43544,     0.43644,     0.43744,     0.43844,     0.43944,     0.44044,     0.44144,     0.44244,     0.44344,     0.44444,     0.44545,     0.44645,     0.44745,     0.44845,     0.44945,     0.45045,     0.45145,     0.45245,     0.45345,     0.45445,     0.45546,\n",
       "           0.45646,     0.45746,     0.45846,     0.45946,     0.46046,     0.46146,     0.46246,     0.46346,     0.46446,     0.46547,     0.46647,     0.46747,     0.46847,     0.46947,     0.47047,     0.47147,     0.47247,     0.47347,     0.47447,     0.47548,     0.47648,     0.47748,     0.47848,     0.47948,\n",
       "           0.48048,     0.48148,     0.48248,     0.48348,     0.48448,     0.48549,     0.48649,     0.48749,     0.48849,     0.48949,     0.49049,     0.49149,     0.49249,     0.49349,     0.49449,      0.4955,      0.4965,      0.4975,      0.4985,      0.4995,      0.5005,      0.5015,      0.5025,      0.5035,\n",
       "            0.5045,     0.50551,     0.50651,     0.50751,     0.50851,     0.50951,     0.51051,     0.51151,     0.51251,     0.51351,     0.51451,     0.51552,     0.51652,     0.51752,     0.51852,     0.51952,     0.52052,     0.52152,     0.52252,     0.52352,     0.52452,     0.52553,     0.52653,     0.52753,\n",
       "           0.52853,     0.52953,     0.53053,     0.53153,     0.53253,     0.53353,     0.53453,     0.53554,     0.53654,     0.53754,     0.53854,     0.53954,     0.54054,     0.54154,     0.54254,     0.54354,     0.54454,     0.54555,     0.54655,     0.54755,     0.54855,     0.54955,     0.55055,     0.55155,\n",
       "           0.55255,     0.55355,     0.55455,     0.55556,     0.55656,     0.55756,     0.55856,     0.55956,     0.56056,     0.56156,     0.56256,     0.56356,     0.56456,     0.56557,     0.56657,     0.56757,     0.56857,     0.56957,     0.57057,     0.57157,     0.57257,     0.57357,     0.57457,     0.57558,\n",
       "           0.57658,     0.57758,     0.57858,     0.57958,     0.58058,     0.58158,     0.58258,     0.58358,     0.58458,     0.58559,     0.58659,     0.58759,     0.58859,     0.58959,     0.59059,     0.59159,     0.59259,     0.59359,     0.59459,      0.5956,      0.5966,      0.5976,      0.5986,      0.5996,\n",
       "            0.6006,      0.6016,      0.6026,      0.6036,      0.6046,     0.60561,     0.60661,     0.60761,     0.60861,     0.60961,     0.61061,     0.61161,     0.61261,     0.61361,     0.61461,     0.61562,     0.61662,     0.61762,     0.61862,     0.61962,     0.62062,     0.62162,     0.62262,     0.62362,\n",
       "           0.62462,     0.62563,     0.62663,     0.62763,     0.62863,     0.62963,     0.63063,     0.63163,     0.63263,     0.63363,     0.63463,     0.63564,     0.63664,     0.63764,     0.63864,     0.63964,     0.64064,     0.64164,     0.64264,     0.64364,     0.64464,     0.64565,     0.64665,     0.64765,\n",
       "           0.64865,     0.64965,     0.65065,     0.65165,     0.65265,     0.65365,     0.65465,     0.65566,     0.65666,     0.65766,     0.65866,     0.65966,     0.66066,     0.66166,     0.66266,     0.66366,     0.66466,     0.66567,     0.66667,     0.66767,     0.66867,     0.66967,     0.67067,     0.67167,\n",
       "           0.67267,     0.67367,     0.67467,     0.67568,     0.67668,     0.67768,     0.67868,     0.67968,     0.68068,     0.68168,     0.68268,     0.68368,     0.68468,     0.68569,     0.68669,     0.68769,     0.68869,     0.68969,     0.69069,     0.69169,     0.69269,     0.69369,     0.69469,      0.6957,\n",
       "            0.6967,      0.6977,      0.6987,      0.6997,      0.7007,      0.7017,      0.7027,      0.7037,      0.7047,     0.70571,     0.70671,     0.70771,     0.70871,     0.70971,     0.71071,     0.71171,     0.71271,     0.71371,     0.71471,     0.71572,     0.71672,     0.71772,     0.71872,     0.71972,\n",
       "           0.72072,     0.72172,     0.72272,     0.72372,     0.72472,     0.72573,     0.72673,     0.72773,     0.72873,     0.72973,     0.73073,     0.73173,     0.73273,     0.73373,     0.73473,     0.73574,     0.73674,     0.73774,     0.73874,     0.73974,     0.74074,     0.74174,     0.74274,     0.74374,\n",
       "           0.74474,     0.74575,     0.74675,     0.74775,     0.74875,     0.74975,     0.75075,     0.75175,     0.75275,     0.75375,     0.75475,     0.75576,     0.75676,     0.75776,     0.75876,     0.75976,     0.76076,     0.76176,     0.76276,     0.76376,     0.76476,     0.76577,     0.76677,     0.76777,\n",
       "           0.76877,     0.76977,     0.77077,     0.77177,     0.77277,     0.77377,     0.77477,     0.77578,     0.77678,     0.77778,     0.77878,     0.77978,     0.78078,     0.78178,     0.78278,     0.78378,     0.78478,     0.78579,     0.78679,     0.78779,     0.78879,     0.78979,     0.79079,     0.79179,\n",
       "           0.79279,     0.79379,     0.79479,      0.7958,      0.7968,      0.7978,      0.7988,      0.7998,      0.8008,      0.8018,      0.8028,      0.8038,      0.8048,     0.80581,     0.80681,     0.80781,     0.80881,     0.80981,     0.81081,     0.81181,     0.81281,     0.81381,     0.81481,     0.81582,\n",
       "           0.81682,     0.81782,     0.81882,     0.81982,     0.82082,     0.82182,     0.82282,     0.82382,     0.82482,     0.82583,     0.82683,     0.82783,     0.82883,     0.82983,     0.83083,     0.83183,     0.83283,     0.83383,     0.83483,     0.83584,     0.83684,     0.83784,     0.83884,     0.83984,\n",
       "           0.84084,     0.84184,     0.84284,     0.84384,     0.84484,     0.84585,     0.84685,     0.84785,     0.84885,     0.84985,     0.85085,     0.85185,     0.85285,     0.85385,     0.85485,     0.85586,     0.85686,     0.85786,     0.85886,     0.85986,     0.86086,     0.86186,     0.86286,     0.86386,\n",
       "           0.86486,     0.86587,     0.86687,     0.86787,     0.86887,     0.86987,     0.87087,     0.87187,     0.87287,     0.87387,     0.87487,     0.87588,     0.87688,     0.87788,     0.87888,     0.87988,     0.88088,     0.88188,     0.88288,     0.88388,     0.88488,     0.88589,     0.88689,     0.88789,\n",
       "           0.88889,     0.88989,     0.89089,     0.89189,     0.89289,     0.89389,     0.89489,      0.8959,      0.8969,      0.8979,      0.8989,      0.8999,      0.9009,      0.9019,      0.9029,      0.9039,      0.9049,     0.90591,     0.90691,     0.90791,     0.90891,     0.90991,     0.91091,     0.91191,\n",
       "           0.91291,     0.91391,     0.91491,     0.91592,     0.91692,     0.91792,     0.91892,     0.91992,     0.92092,     0.92192,     0.92292,     0.92392,     0.92492,     0.92593,     0.92693,     0.92793,     0.92893,     0.92993,     0.93093,     0.93193,     0.93293,     0.93393,     0.93493,     0.93594,\n",
       "           0.93694,     0.93794,     0.93894,     0.93994,     0.94094,     0.94194,     0.94294,     0.94394,     0.94494,     0.94595,     0.94695,     0.94795,     0.94895,     0.94995,     0.95095,     0.95195,     0.95295,     0.95395,     0.95495,     0.95596,     0.95696,     0.95796,     0.95896,     0.95996,\n",
       "           0.96096,     0.96196,     0.96296,     0.96396,     0.96496,     0.96597,     0.96697,     0.96797,     0.96897,     0.96997,     0.97097,     0.97197,     0.97297,     0.97397,     0.97497,     0.97598,     0.97698,     0.97798,     0.97898,     0.97998,     0.98098,     0.98198,     0.98298,     0.98398,\n",
       "           0.98498,     0.98599,     0.98699,     0.98799,     0.98899,     0.98999,     0.99099,     0.99199,     0.99299,     0.99399,     0.99499,       0.996,       0.997,       0.998,       0.999,           1]), array([[          1,           1,           1, ...,           0,           0,           0],\n",
       "       [          1,           1,           1, ...,           0,           0,           0],\n",
       "       [          1,           1,           1, ...,           0,           0,           0],\n",
       "       ...,\n",
       "       [          1,           1,           1, ...,           0,           0,           0],\n",
       "       [          1,           1,           1, ...,           0,           0,           0],\n",
       "       [          1,           1,           1, ...,           0,           0,           0]]), 'Confidence', 'Recall']]\n",
       "fitness: 0.9566786637964586\n",
       "keys: ['metrics/precision(B)', 'metrics/recall(B)', 'metrics/mAP50(B)', 'metrics/mAP50-95(B)']\n",
       "maps: array([    0.97312,      0.9834,     0.95766,     0.94544,     0.96365,     0.92788,     0.96962,     0.98158,     0.95396,     0.98683,     0.87536,     0.96127,     0.90273])\n",
       "names: {0: 'circle', 1: 'cross', 2: 'heptagon', 3: 'hexagon', 4: 'octagon', 5: 'pentagon', 6: 'quarter_circle', 7: 'rectangle', 8: 'semicircle', 9: 'square', 10: 'star', 11: 'trapezoid', 12: 'triangle'}\n",
       "plot: True\n",
       "results_dict: {'metrics/precision(B)': 0.9959532474419057, 'metrics/recall(B)': 0.989288828177888, 'metrics/mAP50(B)': 0.9942962161592105, 'metrics/mAP50-95(B)': 0.9524989357561529, 'fitness': 0.9566786637964586}\n",
       "save_dir: PosixPath('runs/detect/train2')\n",
       "speed: {'preprocess': 0.2818029729565184, 'inference': 2.6638825335095278, 'loss': 0.004065695719503278, 'postprocess': 3.0457584103148188}\n",
       "task: 'detect'"
      ]
     },
     "execution_count": 7,
     "metadata": {},
     "output_type": "execute_result"
    }
   ],
   "source": [
    "from ultralytics import YOLO\n",
    "\n",
    "# Load YOLOv8 model\n",
    "model = YOLO(\"yolov8n.pt\")  # Could use 'yolov8s.pt' for better accuracy\n",
    "\n",
    "# Train on the extracted dataset\n",
    "model.train(data=\"/content/dataset/data.yaml\", epochs=50, imgsz=640)\n"
   ]
  },
  {
   "cell_type": "markdown",
   "metadata": {
    "id": "xCRHLSoJHFeG"
   },
   "source": [
    "![image.png](data:image/png;base64,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)"
   ]
  },
  {
   "cell_type": "markdown",
   "metadata": {
    "id": "6KAN-finG45U"
   },
   "source": [
    "![image.png](data:image/png;base64,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)"
   ]
  },
  {
   "cell_type": "markdown",
   "metadata": {
    "id": "UD6v2XI_It9n"
   },
   "source": [
    "![image.png](data:image/png;base64,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)"
   ]
  },
  {
   "cell_type": "markdown",
   "metadata": {
    "id": "1IP8VnOJIwyc"
   },
   "source": [
    "## What we can conclude from the above graphs is that:\n",
    "- If train loss goes down but val loss goes up, youre overfitting.\n",
    "- If both decrease steadily ; ur learning well.\n",
    "\n",
    "\n",
    "## YOLOv8 has multiple parameter groups (backbone, neck, head).\n",
    "\n",
    "- lr/pg0 : learning rate for backbone params\n",
    "- lr/pg1 : for middle layers\n",
    "- lr/pg2 : for final detection head\n",
    "\n",
    "These change with learning rate scheduling (warmup, decay) & here, stable drops mean training is progressing normally."
   ]
  },
  {
   "cell_type": "code",
   "execution_count": null,
   "metadata": {
    "colab": {
     "base_uri": "https://localhost:8080/"
    },
    "id": "-9XF764JsMF8",
    "outputId": "097003d6-cd7a-4320-e8cc-d8e9524f2676"
   },
   "outputs": [],
   "source": [
    "!apt-get update && apt-get install -y locales\n",
    "!locale-gen en_US.UTF-8\n",
    "!export LANG=en_US.UTF-8\n",
    "!export LC_ALL=en_US.UTF-8"
   ]
  },
  {
   "cell_type": "code",
   "execution_count": null,
   "metadata": {
    "colab": {
     "base_uri": "https://localhost:8080/"
    },
    "id": "f4Fh0WFcE77p",
    "outputId": "a8718ea2-4ca0-4663-e5c9-758692c22980"
   },
   "outputs": [
    {
     "name": "stdout",
     "output_type": "stream",
     "text": [
      "args.yaml\t\t\t\t\t   R_curve.png\t\tval_batch0_labels.jpg\n",
      "confusion_matrix_normalized.png\t\t\t   results.csv\t\tval_batch0_pred.jpg\n",
      "confusion_matrix.png\t\t\t\t   results.png\t\tval_batch1_labels.jpg\n",
      "events.out.tfevents.1739270475.111b6f54e93c.203.0  train_batch0.jpg\tval_batch1_pred.jpg\n",
      "F1_curve.png\t\t\t\t\t   train_batch1.jpg\tval_batch2_labels.jpg\n",
      "labels_correlogram.jpg\t\t\t\t   train_batch2.jpg\tval_batch2_pred.jpg\n",
      "labels.jpg\t\t\t\t\t   train_batch3520.jpg\tweights\n",
      "P_curve.png\t\t\t\t\t   train_batch3521.jpg\n",
      "PR_curve.png\t\t\t\t\t   train_batch3522.jpg\n"
     ]
    }
   ],
   "source": [
    "!ls /content/drive/MyDrive/YOLOV8_Training/runs/detect/train2/"
   ]
  },
  {
   "cell_type": "markdown",
   "metadata": {
    "id": "EZWh8wBsJ1hc"
   },
   "source": [
    "## Parmater tuning that coulda been done here\n",
    "\n",
    "- Learning rate (lr0) : most impactful\n",
    "\n",
    "- Batch size : can affect convergence\n",
    "\n",
    "- Augmentation : for data diversity\n",
    "\n",
    "- Momentum & weight decay : for stability\n",
    "\n",
    "- Epochs : could be extended if still improving"
   ]
  },
  {
   "cell_type": "code",
   "execution_count": null,
   "metadata": {
    "id": "RXXc441VKNCD"
   },
   "outputs": [],
   "source": []
  }
 ],
 "metadata": {
  "accelerator": "GPU",
  "colab": {
   "gpuType": "T4",
   "provenance": []
  },
  "kernelspec": {
   "display_name": "Python 3 (ipykernel)",
   "language": "python",
   "name": "python3"
  },
  "language_info": {
   "codemirror_mode": {
    "name": "ipython",
    "version": 3
   },
   "file_extension": ".py",
   "mimetype": "text/x-python",
   "name": "python",
   "nbconvert_exporter": "python",
   "pygments_lexer": "ipython3",
   "version": "3.12.7"
  }
 },
 "nbformat": 4,
 "nbformat_minor": 4
}
